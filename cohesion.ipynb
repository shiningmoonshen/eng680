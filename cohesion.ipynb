{
 "cells": [
  {
   "cell_type": "code",
   "execution_count": 1,
   "id": "e969f5ff",
   "metadata": {},
   "outputs": [],
   "source": [
    "import nltk\n",
    "import os\n",
    "import pandas as pd"
   ]
  },
  {
   "cell_type": "markdown",
   "id": "f7270643",
   "metadata": {},
   "source": [
    "### setup ###\n",
    "#### icnale ####"
   ]
  },
  {
   "cell_type": "code",
   "execution_count": 2,
   "id": "ef4e355b",
   "metadata": {},
   "outputs": [],
   "source": [
    "#read the files into pandas dataframe for better manipulation later on\n",
    "ptj_path = 'ptj'\n",
    "smk_path = 'smk'\n",
    "\n",
    "ptj_data = []\n",
    "smk_data = []\n",
    "\n",
    "# Loop through all .txt files in the parttime job folder\n",
    "for filename in os.listdir(ptj_path):\n",
    "    if filename.endswith(\".txt\"):\n",
    "        file_path = os.path.join(ptj_path, filename)\n",
    "        with open(file_path, 'r', encoding='utf-8') as f:\n",
    "            text = f.read()\n",
    "            ptj_data.append({\n",
    "                \"filename\": filename,\n",
    "                \"text\": text\n",
    "            })\n",
    "            \n",
    "# Loop through all .txt files in the no smoking folder\n",
    "for filename in os.listdir(smk_path):\n",
    "    if filename.endswith(\".txt\"):\n",
    "        file_path = os.path.join(smk_path, filename)\n",
    "        with open(file_path, 'r', encoding='utf-8') as f:\n",
    "            text = f.read()\n",
    "            smk_data.append({\n",
    "                \"filename\": filename,\n",
    "                \"text\": text\n",
    "            })\n",
    "\n",
    "ptj_df = pd.DataFrame(ptj_data)\n",
    "smk_df = pd.DataFrame(smk_data)"
   ]
  },
  {
   "cell_type": "code",
   "execution_count": 3,
   "id": "b52e2521",
   "metadata": {},
   "outputs": [
    {
     "data": {
      "text/html": [
       "<div>\n",
       "<style scoped>\n",
       "    .dataframe tbody tr th:only-of-type {\n",
       "        vertical-align: middle;\n",
       "    }\n",
       "\n",
       "    .dataframe tbody tr th {\n",
       "        vertical-align: top;\n",
       "    }\n",
       "\n",
       "    .dataframe thead th {\n",
       "        text-align: right;\n",
       "    }\n",
       "</style>\n",
       "<table border=\"1\" class=\"dataframe\">\n",
       "  <thead>\n",
       "    <tr style=\"text-align: right;\">\n",
       "      <th></th>\n",
       "      <th>filename</th>\n",
       "      <th>text</th>\n",
       "    </tr>\n",
       "  </thead>\n",
       "  <tbody>\n",
       "    <tr>\n",
       "      <th>0</th>\n",
       "      <td>WE_KOR_SMK0_260_B2_0.txt</td>\n",
       "      <td>﻿I agree with the statement that smoking shoul...</td>\n",
       "    </tr>\n",
       "    <tr>\n",
       "      <th>1</th>\n",
       "      <td>WE_KOR_SMK0_284_B2_0.txt</td>\n",
       "      <td>﻿I think that smoking should be completely pro...</td>\n",
       "    </tr>\n",
       "    <tr>\n",
       "      <th>2</th>\n",
       "      <td>WE_KOR_SMK0_285_B2_0.txt</td>\n",
       "      <td>﻿I believe that smoking should be completely b...</td>\n",
       "    </tr>\n",
       "    <tr>\n",
       "      <th>3</th>\n",
       "      <td>WE_KOR_SMK0_292_B2_0.txt</td>\n",
       "      <td>﻿I agree that smoking should be completely ban...</td>\n",
       "    </tr>\n",
       "    <tr>\n",
       "      <th>4</th>\n",
       "      <td>WE_KOR_SMK0_271_B2_0.txt</td>\n",
       "      <td>﻿I agree that smoking should be completely ban...</td>\n",
       "    </tr>\n",
       "  </tbody>\n",
       "</table>\n",
       "</div>"
      ],
      "text/plain": [
       "                   filename                                               text\n",
       "0  WE_KOR_SMK0_260_B2_0.txt  ﻿I agree with the statement that smoking shoul...\n",
       "1  WE_KOR_SMK0_284_B2_0.txt  ﻿I think that smoking should be completely pro...\n",
       "2  WE_KOR_SMK0_285_B2_0.txt  ﻿I believe that smoking should be completely b...\n",
       "3  WE_KOR_SMK0_292_B2_0.txt  ﻿I agree that smoking should be completely ban...\n",
       "4  WE_KOR_SMK0_271_B2_0.txt  ﻿I agree that smoking should be completely ban..."
      ]
     },
     "execution_count": 3,
     "metadata": {},
     "output_type": "execute_result"
    }
   ],
   "source": [
    "smk_df.head()"
   ]
  },
  {
   "cell_type": "markdown",
   "id": "d9187d71",
   "metadata": {},
   "source": [
    "#### locness ####"
   ]
  },
  {
   "cell_type": "code",
   "execution_count": 4,
   "id": "d509c7d9",
   "metadata": {},
   "outputs": [],
   "source": [
    "import re\n",
    "\n",
    "def extract_chunks_from_file(filepath):\n",
    "    with open(filepath, 'r', encoding='latin-1') as file:\n",
    "        content = file.read()\n",
    "\n",
    "    # Split content into chunks on patterns like <section>\n",
    "    pattern = r'(?=<[^<>]+>)'\n",
    "    chunks = re.split(pattern, content)\n",
    "\n",
    "    data = []\n",
    "    for chunk in chunks:\n",
    "        chunk = chunk.strip()\n",
    "        if not chunk:\n",
    "            continue\n",
    "        match = re.match(r'<([^<>]+)>\\s*(.*)', chunk, re.DOTALL)\n",
    "        if match:\n",
    "            tag, text = match.groups()\n",
    "            data.append({'filename': os.path.basename(filepath), 'section': tag.strip(), 'content': text.strip()})\n",
    "\n",
    "    return data\n",
    "\n",
    "def process_folder(folder_path):\n",
    "    all_data = []\n",
    "\n",
    "    for filename in os.listdir(folder_path):\n",
    "        if filename.endswith('.txt'):\n",
    "            filepath = os.path.join(folder_path, filename)\n",
    "            file_chunks = extract_chunks_from_file(filepath)\n",
    "            all_data.extend(file_chunks)\n",
    "\n",
    "    df = pd.DataFrame(all_data)\n",
    "    df.set_index(['filename', 'section'], inplace=True)\n",
    "    return df\n",
    "\n",
    "locness_path = 'locness'\n",
    "locness_df = process_folder(locness_path)"
   ]
  },
  {
   "cell_type": "code",
   "execution_count": 5,
   "id": "1cb46350",
   "metadata": {},
   "outputs": [
    {
     "data": {
      "text/plain": [
       "50"
      ]
     },
     "execution_count": 5,
     "metadata": {},
     "output_type": "execute_result"
    }
   ],
   "source": [
    "locness_df = locness_df.iloc[:50]\n",
    "locness_df.shape[0]"
   ]
  },
  {
   "cell_type": "code",
   "execution_count": 6,
   "id": "37f32450",
   "metadata": {},
   "outputs": [
    {
     "data": {
      "text/html": [
       "<div>\n",
       "<style scoped>\n",
       "    .dataframe tbody tr th:only-of-type {\n",
       "        vertical-align: middle;\n",
       "    }\n",
       "\n",
       "    .dataframe tbody tr th {\n",
       "        vertical-align: top;\n",
       "    }\n",
       "\n",
       "    .dataframe thead th {\n",
       "        text-align: right;\n",
       "    }\n",
       "</style>\n",
       "<table border=\"1\" class=\"dataframe\">\n",
       "  <thead>\n",
       "    <tr style=\"text-align: right;\">\n",
       "      <th></th>\n",
       "      <th></th>\n",
       "      <th>content</th>\n",
       "    </tr>\n",
       "    <tr>\n",
       "      <th>filename</th>\n",
       "      <th>section</th>\n",
       "      <th></th>\n",
       "    </tr>\n",
       "  </thead>\n",
       "  <tbody>\n",
       "    <tr>\n",
       "      <th rowspan=\"5\" valign=\"top\">alevels9.txt</th>\n",
       "      <th>ICLE-ALEV-0001.9</th>\n",
       "      <td>As the technological advances made in science ...</td>\n",
       "    </tr>\n",
       "    <tr>\n",
       "      <th>ICLE-ALEV-0002.9</th>\n",
       "      <td>How far and in what ways has the human brain b...</td>\n",
       "    </tr>\n",
       "    <tr>\n",
       "      <th>ICLE-ALEV-0003.9</th>\n",
       "      <td>There has always been a wide range of reasons ...</td>\n",
       "    </tr>\n",
       "    <tr>\n",
       "      <th>ICLE-ALEV-0004.9</th>\n",
       "      <td>There are several reasons why people in the UK...</td>\n",
       "    </tr>\n",
       "    <tr>\n",
       "      <th>ICLE-ALEV-0005.9</th>\n",
       "      <td>People in the U.K. may refuse to eat beef due ...</td>\n",
       "    </tr>\n",
       "  </tbody>\n",
       "</table>\n",
       "</div>"
      ],
      "text/plain": [
       "                                                                         content\n",
       "filename     section                                                            \n",
       "alevels9.txt ICLE-ALEV-0001.9  As the technological advances made in science ...\n",
       "             ICLE-ALEV-0002.9  How far and in what ways has the human brain b...\n",
       "             ICLE-ALEV-0003.9  There has always been a wide range of reasons ...\n",
       "             ICLE-ALEV-0004.9  There are several reasons why people in the UK...\n",
       "             ICLE-ALEV-0005.9  People in the U.K. may refuse to eat beef due ..."
      ]
     },
     "execution_count": 6,
     "metadata": {},
     "output_type": "execute_result"
    }
   ],
   "source": [
    "locness_df.head()"
   ]
  },
  {
   "cell_type": "markdown",
   "id": "e269d13d",
   "metadata": {},
   "source": [
    "### reference ###"
   ]
  },
  {
   "cell_type": "code",
   "execution_count": 7,
   "id": "0633b313",
   "metadata": {},
   "outputs": [
    {
     "name": "stderr",
     "output_type": "stream",
     "text": [
      "[nltk_data] Downloading package punkt to /Users/Catherine/nltk_data...\n",
      "[nltk_data]   Package punkt is already up-to-date!\n",
      "[nltk_data] Downloading package averaged_perceptron_tagger to\n",
      "[nltk_data]     /Users/Catherine/nltk_data...\n",
      "[nltk_data]   Package averaged_perceptron_tagger is already up-to-\n",
      "[nltk_data]       date!\n",
      "[nltk_data] Downloading package averaged_perceptron_tagger_eng to\n",
      "[nltk_data]     /Users/Catherine/nltk_data...\n",
      "[nltk_data]   Package averaged_perceptron_tagger_eng is already up-to-\n",
      "[nltk_data]       date!\n"
     ]
    },
    {
     "data": {
      "text/plain": [
       "True"
      ]
     },
     "execution_count": 7,
     "metadata": {},
     "output_type": "execute_result"
    }
   ],
   "source": [
    "#anaphoric reference\n",
    "#may need hugging face model to do anaphoric reference\n",
    "anaphoric_list = ['as stated previously', 'the aforementioned']\n",
    "\n",
    "from nltk import word_tokenize, pos_tag, sent_tokenize\n",
    "\n",
    "nltk.download('punkt')\n",
    "nltk.download('averaged_perceptron_tagger')\n",
    "nltk.download('averaged_perceptron_tagger_eng')"
   ]
  },
  {
   "cell_type": "markdown",
   "id": "20a6f3d0",
   "metadata": {},
   "source": [
    "At first I tried to use just ntlk to find references, but I realized that it was very hard to check for agreement and overlap with just the barebones tools. \n",
    "\n",
    "So I changed course and decided to try using spacy to help capture the nuance in references, more specifically anaphoric references. \n",
    "\n",
    "Spacy seems to do a much better job at pinpointing pairs that actually make sense. These new pairs seems to be far more likely to have agreement, and repeated pairs like 'it' and 'college' have significantly decreased in appearance."
   ]
  },
  {
   "cell_type": "code",
   "execution_count": 8,
   "id": "ef88da6d",
   "metadata": {},
   "outputs": [],
   "source": [
    "#This function is no longer used for the final product\n",
    "# Helper function\n",
    "def find_references(text):\n",
    "    anaphora = []\n",
    "    sentences = sent_tokenize(text)\n",
    "    \n",
    "    for i, sent in enumerate(sentences):\n",
    "        tokens = word_tokenize(sent)\n",
    "        tagged = pos_tag(tokens)\n",
    "\n",
    "        # Find potential antecedents: proper nouns or singular nouns (NNP, NN, etc.)\n",
    "        antecedents = [word for word, tag in tagged if tag in ('NNP', 'NNPS', 'NN', 'NNS')]\n",
    "\n",
    "        # Look in current and next sentence for pronouns (PRP)\n",
    "        next_sent = sentences[i+1] if i+1 < len(sentences) else ''\n",
    "        combined = sent + ' ' + next_sent\n",
    "        combined_tokens = word_tokenize(combined)\n",
    "        combined_tagged = pos_tag(combined_tokens)\n",
    "\n",
    "        ref = [word for word, tag in combined_tagged if tag == 'PRP']\n",
    "\n",
    "        if antecedents and ref:\n",
    "            for ant in antecedents:\n",
    "                for pro in ref:\n",
    "                    anaphora.append((ant, pro))\n",
    "\n",
    "    return anaphora"
   ]
  },
  {
   "cell_type": "code",
   "execution_count": 9,
   "id": "d52fb86a",
   "metadata": {},
   "outputs": [],
   "source": [
    "# Apply to dataframe\n",
    "ptj_df['references'] = ptj_df['text'].apply(find_references)\n",
    "smk_df['references'] = smk_df['text'].apply(find_references)\n",
    "locness_df['references'] = locness_df['content'].apply(find_references)"
   ]
  },
  {
   "cell_type": "code",
   "execution_count": 10,
   "id": "5be5b433",
   "metadata": {},
   "outputs": [
    {
     "data": {
      "text/html": [
       "<div>\n",
       "<style scoped>\n",
       "    .dataframe tbody tr th:only-of-type {\n",
       "        vertical-align: middle;\n",
       "    }\n",
       "\n",
       "    .dataframe tbody tr th {\n",
       "        vertical-align: top;\n",
       "    }\n",
       "\n",
       "    .dataframe thead th {\n",
       "        text-align: right;\n",
       "    }\n",
       "</style>\n",
       "<table border=\"1\" class=\"dataframe\">\n",
       "  <thead>\n",
       "    <tr style=\"text-align: right;\">\n",
       "      <th></th>\n",
       "      <th>text</th>\n",
       "      <th>references</th>\n",
       "    </tr>\n",
       "  </thead>\n",
       "  <tbody>\n",
       "    <tr>\n",
       "      <th>0</th>\n",
       "      <td>﻿It is important for college student to have p...</td>\n",
       "      <td>[(college, It), (college, it), (students, It),...</td>\n",
       "    </tr>\n",
       "    <tr>\n",
       "      <th>1</th>\n",
       "      <td>﻿Most college students get a part time job eve...</td>\n",
       "      <td>[(Needless, they), (Needless, themselves), (lo...</td>\n",
       "    </tr>\n",
       "    <tr>\n",
       "      <th>2</th>\n",
       "      <td>﻿I believe that it is important for college st...</td>\n",
       "      <td>[(﻿I, it), (college, it), (students, it), (job...</td>\n",
       "    </tr>\n",
       "    <tr>\n",
       "      <th>3</th>\n",
       "      <td>﻿Many students are having part time jobs these...</td>\n",
       "      <td>[(students, It), (part, It), (time, It), (jobs...</td>\n",
       "    </tr>\n",
       "    <tr>\n",
       "      <th>4</th>\n",
       "      <td>﻿It is during your college years where you can...</td>\n",
       "      <td>[(﻿It, you), (﻿It, I), (﻿It, them), (﻿It, you)...</td>\n",
       "    </tr>\n",
       "  </tbody>\n",
       "</table>\n",
       "</div>"
      ],
      "text/plain": [
       "                                                text  \\\n",
       "0  ﻿It is important for college student to have p...   \n",
       "1  ﻿Most college students get a part time job eve...   \n",
       "2  ﻿I believe that it is important for college st...   \n",
       "3  ﻿Many students are having part time jobs these...   \n",
       "4  ﻿It is during your college years where you can...   \n",
       "\n",
       "                                          references  \n",
       "0  [(college, It), (college, it), (students, It),...  \n",
       "1  [(Needless, they), (Needless, themselves), (lo...  \n",
       "2  [(﻿I, it), (college, it), (students, it), (job...  \n",
       "3  [(students, It), (part, It), (time, It), (jobs...  \n",
       "4  [(﻿It, you), (﻿It, I), (﻿It, them), (﻿It, you)...  "
      ]
     },
     "execution_count": 10,
     "metadata": {},
     "output_type": "execute_result"
    }
   ],
   "source": [
    "# Output\n",
    "ptj_df[['text', 'references']].head()"
   ]
  },
  {
   "cell_type": "code",
   "execution_count": 11,
   "id": "20f2f62f",
   "metadata": {},
   "outputs": [
    {
     "data": {
      "text/html": [
       "<div>\n",
       "<style scoped>\n",
       "    .dataframe tbody tr th:only-of-type {\n",
       "        vertical-align: middle;\n",
       "    }\n",
       "\n",
       "    .dataframe tbody tr th {\n",
       "        vertical-align: top;\n",
       "    }\n",
       "\n",
       "    .dataframe thead th {\n",
       "        text-align: right;\n",
       "    }\n",
       "</style>\n",
       "<table border=\"1\" class=\"dataframe\">\n",
       "  <thead>\n",
       "    <tr style=\"text-align: right;\">\n",
       "      <th></th>\n",
       "      <th></th>\n",
       "      <th>content</th>\n",
       "      <th>references</th>\n",
       "    </tr>\n",
       "    <tr>\n",
       "      <th>filename</th>\n",
       "      <th>section</th>\n",
       "      <th></th>\n",
       "      <th></th>\n",
       "    </tr>\n",
       "  </thead>\n",
       "  <tbody>\n",
       "    <tr>\n",
       "      <th rowspan=\"5\" valign=\"top\">alevels9.txt</th>\n",
       "      <th>ICLE-ALEV-0001.9</th>\n",
       "      <td>As the technological advances made in science ...</td>\n",
       "      <td>[(advances, it), (science, it), (products, it)...</td>\n",
       "    </tr>\n",
       "    <tr>\n",
       "      <th>ICLE-ALEV-0002.9</th>\n",
       "      <td>How far and in what ways has the human brain b...</td>\n",
       "      <td>[(ways, it), (brain, it), (redundant, it), (in...</td>\n",
       "    </tr>\n",
       "    <tr>\n",
       "      <th>ICLE-ALEV-0003.9</th>\n",
       "      <td>There has always been a wide range of reasons ...</td>\n",
       "      <td>[(Cruelty, it), (animals, it), (people, it), (...</td>\n",
       "    </tr>\n",
       "    <tr>\n",
       "      <th>ICLE-ALEV-0004.9</th>\n",
       "      <td>There are several reasons why people in the UK...</td>\n",
       "      <td>[(cows, it), (feed, it), (sheep, it), (brains,...</td>\n",
       "    </tr>\n",
       "    <tr>\n",
       "      <th>ICLE-ALEV-0005.9</th>\n",
       "      <td>People in the U.K. may refuse to eat beef due ...</td>\n",
       "      <td>[(People, It), (U.K., It), (beef, It), (concer...</td>\n",
       "    </tr>\n",
       "  </tbody>\n",
       "</table>\n",
       "</div>"
      ],
      "text/plain": [
       "                                                                         content  \\\n",
       "filename     section                                                               \n",
       "alevels9.txt ICLE-ALEV-0001.9  As the technological advances made in science ...   \n",
       "             ICLE-ALEV-0002.9  How far and in what ways has the human brain b...   \n",
       "             ICLE-ALEV-0003.9  There has always been a wide range of reasons ...   \n",
       "             ICLE-ALEV-0004.9  There are several reasons why people in the UK...   \n",
       "             ICLE-ALEV-0005.9  People in the U.K. may refuse to eat beef due ...   \n",
       "\n",
       "                                                                      references  \n",
       "filename     section                                                              \n",
       "alevels9.txt ICLE-ALEV-0001.9  [(advances, it), (science, it), (products, it)...  \n",
       "             ICLE-ALEV-0002.9  [(ways, it), (brain, it), (redundant, it), (in...  \n",
       "             ICLE-ALEV-0003.9  [(Cruelty, it), (animals, it), (people, it), (...  \n",
       "             ICLE-ALEV-0004.9  [(cows, it), (feed, it), (sheep, it), (brains,...  \n",
       "             ICLE-ALEV-0005.9  [(People, It), (U.K., It), (beef, It), (concer...  "
      ]
     },
     "execution_count": 11,
     "metadata": {},
     "output_type": "execute_result"
    }
   ],
   "source": [
    "locness_df[['content', 'references']].head()"
   ]
  },
  {
   "cell_type": "markdown",
   "id": "a61dc51e",
   "metadata": {},
   "source": [
    "As I believe the spacy function is more accurate, I will be overriding the prior column with the new pairs found through spacy."
   ]
  },
  {
   "cell_type": "code",
   "execution_count": 12,
   "id": "638f10b7",
   "metadata": {},
   "outputs": [
    {
     "name": "stdout",
     "output_type": "stream",
     "text": [
      "Requirement already satisfied: spacy in /Users/Catherine/.pyenv/versions/3.12.7/lib/python3.12/site-packages (3.8.6)\n",
      "Requirement already satisfied: spacy-legacy<3.1.0,>=3.0.11 in /Users/Catherine/.pyenv/versions/3.12.7/lib/python3.12/site-packages (from spacy) (3.0.12)\n",
      "Requirement already satisfied: spacy-loggers<2.0.0,>=1.0.0 in /Users/Catherine/.pyenv/versions/3.12.7/lib/python3.12/site-packages (from spacy) (1.0.5)\n",
      "Requirement already satisfied: murmurhash<1.1.0,>=0.28.0 in /Users/Catherine/.pyenv/versions/3.12.7/lib/python3.12/site-packages (from spacy) (1.0.12)\n",
      "Requirement already satisfied: cymem<2.1.0,>=2.0.2 in /Users/Catherine/.pyenv/versions/3.12.7/lib/python3.12/site-packages (from spacy) (2.0.11)\n",
      "Requirement already satisfied: preshed<3.1.0,>=3.0.2 in /Users/Catherine/.pyenv/versions/3.12.7/lib/python3.12/site-packages (from spacy) (3.0.9)\n",
      "Requirement already satisfied: thinc<8.4.0,>=8.3.4 in /Users/Catherine/.pyenv/versions/3.12.7/lib/python3.12/site-packages (from spacy) (8.3.6)\n",
      "Requirement already satisfied: wasabi<1.2.0,>=0.9.1 in /Users/Catherine/.pyenv/versions/3.12.7/lib/python3.12/site-packages (from spacy) (1.1.3)\n",
      "Requirement already satisfied: srsly<3.0.0,>=2.4.3 in /Users/Catherine/.pyenv/versions/3.12.7/lib/python3.12/site-packages (from spacy) (2.5.1)\n",
      "Requirement already satisfied: catalogue<2.1.0,>=2.0.6 in /Users/Catherine/.pyenv/versions/3.12.7/lib/python3.12/site-packages (from spacy) (2.0.10)\n",
      "Requirement already satisfied: weasel<0.5.0,>=0.1.0 in /Users/Catherine/.pyenv/versions/3.12.7/lib/python3.12/site-packages (from spacy) (0.4.1)\n",
      "Requirement already satisfied: typer<1.0.0,>=0.3.0 in /Users/Catherine/.pyenv/versions/3.12.7/lib/python3.12/site-packages (from spacy) (0.14.0)\n",
      "Requirement already satisfied: tqdm<5.0.0,>=4.38.0 in /Users/Catherine/.pyenv/versions/3.12.7/lib/python3.12/site-packages (from spacy) (4.67.1)\n",
      "Requirement already satisfied: numpy>=1.19.0 in /Users/Catherine/.pyenv/versions/3.12.7/lib/python3.12/site-packages (from spacy) (2.1.3)\n",
      "Requirement already satisfied: requests<3.0.0,>=2.13.0 in /Users/Catherine/.pyenv/versions/3.12.7/lib/python3.12/site-packages (from spacy) (2.32.3)\n",
      "Requirement already satisfied: pydantic!=1.8,!=1.8.1,<3.0.0,>=1.7.4 in /Users/Catherine/.pyenv/versions/3.12.7/lib/python3.12/site-packages (from spacy) (2.9.2)\n",
      "Requirement already satisfied: jinja2 in /Users/Catherine/.pyenv/versions/3.12.7/lib/python3.12/site-packages (from spacy) (3.1.4)\n",
      "Requirement already satisfied: setuptools in /Users/Catherine/.pyenv/versions/3.12.7/lib/python3.12/site-packages (from spacy) (80.8.0)\n",
      "Requirement already satisfied: packaging>=20.0 in /Users/Catherine/.pyenv/versions/3.12.7/lib/python3.12/site-packages (from spacy) (24.2)\n",
      "Requirement already satisfied: langcodes<4.0.0,>=3.2.0 in /Users/Catherine/.pyenv/versions/3.12.7/lib/python3.12/site-packages (from spacy) (3.5.0)\n",
      "Requirement already satisfied: language-data>=1.2 in /Users/Catherine/.pyenv/versions/3.12.7/lib/python3.12/site-packages (from langcodes<4.0.0,>=3.2.0->spacy) (1.3.0)\n",
      "Requirement already satisfied: annotated-types>=0.6.0 in /Users/Catherine/.pyenv/versions/3.12.7/lib/python3.12/site-packages (from pydantic!=1.8,!=1.8.1,<3.0.0,>=1.7.4->spacy) (0.7.0)\n",
      "Requirement already satisfied: pydantic-core==2.23.4 in /Users/Catherine/.pyenv/versions/3.12.7/lib/python3.12/site-packages (from pydantic!=1.8,!=1.8.1,<3.0.0,>=1.7.4->spacy) (2.23.4)\n",
      "Requirement already satisfied: typing-extensions>=4.6.1 in /Users/Catherine/.pyenv/versions/3.12.7/lib/python3.12/site-packages (from pydantic!=1.8,!=1.8.1,<3.0.0,>=1.7.4->spacy) (4.12.2)\n",
      "Requirement already satisfied: charset-normalizer<4,>=2 in /Users/Catherine/.pyenv/versions/3.12.7/lib/python3.12/site-packages (from requests<3.0.0,>=2.13.0->spacy) (3.4.0)\n",
      "Requirement already satisfied: idna<4,>=2.5 in /Users/Catherine/.pyenv/versions/3.12.7/lib/python3.12/site-packages (from requests<3.0.0,>=2.13.0->spacy) (3.10)\n",
      "Requirement already satisfied: urllib3<3,>=1.21.1 in /Users/Catherine/.pyenv/versions/3.12.7/lib/python3.12/site-packages (from requests<3.0.0,>=2.13.0->spacy) (2.2.3)\n",
      "Requirement already satisfied: certifi>=2017.4.17 in /Users/Catherine/.pyenv/versions/3.12.7/lib/python3.12/site-packages (from requests<3.0.0,>=2.13.0->spacy) (2024.8.30)\n",
      "Requirement already satisfied: blis<1.4.0,>=1.3.0 in /Users/Catherine/.pyenv/versions/3.12.7/lib/python3.12/site-packages (from thinc<8.4.0,>=8.3.4->spacy) (1.3.0)\n",
      "Requirement already satisfied: confection<1.0.0,>=0.0.1 in /Users/Catherine/.pyenv/versions/3.12.7/lib/python3.12/site-packages (from thinc<8.4.0,>=8.3.4->spacy) (0.1.5)\n",
      "Requirement already satisfied: click>=8.0.0 in /Users/Catherine/.pyenv/versions/3.12.7/lib/python3.12/site-packages (from typer<1.0.0,>=0.3.0->spacy) (8.1.7)\n",
      "Requirement already satisfied: shellingham>=1.3.0 in /Users/Catherine/.pyenv/versions/3.12.7/lib/python3.12/site-packages (from typer<1.0.0,>=0.3.0->spacy) (1.5.4)\n",
      "Requirement already satisfied: rich>=10.11.0 in /Users/Catherine/.pyenv/versions/3.12.7/lib/python3.12/site-packages (from typer<1.0.0,>=0.3.0->spacy) (13.9.4)\n",
      "Requirement already satisfied: cloudpathlib<1.0.0,>=0.7.0 in /Users/Catherine/.pyenv/versions/3.12.7/lib/python3.12/site-packages (from weasel<0.5.0,>=0.1.0->spacy) (0.21.1)\n",
      "Requirement already satisfied: smart-open<8.0.0,>=5.2.1 in /Users/Catherine/.pyenv/versions/3.12.7/lib/python3.12/site-packages (from weasel<0.5.0,>=0.1.0->spacy) (7.1.0)\n",
      "Requirement already satisfied: MarkupSafe>=2.0 in /Users/Catherine/.pyenv/versions/3.12.7/lib/python3.12/site-packages (from jinja2->spacy) (2.1.5)\n",
      "Requirement already satisfied: marisa-trie>=1.1.0 in /Users/Catherine/.pyenv/versions/3.12.7/lib/python3.12/site-packages (from language-data>=1.2->langcodes<4.0.0,>=3.2.0->spacy) (1.2.1)\n",
      "Requirement already satisfied: markdown-it-py>=2.2.0 in /Users/Catherine/.pyenv/versions/3.12.7/lib/python3.12/site-packages (from rich>=10.11.0->typer<1.0.0,>=0.3.0->spacy) (3.0.0)\n",
      "Requirement already satisfied: pygments<3.0.0,>=2.13.0 in /Users/Catherine/.pyenv/versions/3.12.7/lib/python3.12/site-packages (from rich>=10.11.0->typer<1.0.0,>=0.3.0->spacy) (2.18.0)\n",
      "Requirement already satisfied: wrapt in /Users/Catherine/.pyenv/versions/3.12.7/lib/python3.12/site-packages (from smart-open<8.0.0,>=5.2.1->weasel<0.5.0,>=0.1.0->spacy) (1.17.0)\n",
      "Requirement already satisfied: mdurl~=0.1 in /Users/Catherine/.pyenv/versions/3.12.7/lib/python3.12/site-packages (from markdown-it-py>=2.2.0->rich>=10.11.0->typer<1.0.0,>=0.3.0->spacy) (0.1.2)\n",
      "\n",
      "\u001b[1m[\u001b[0m\u001b[34;49mnotice\u001b[0m\u001b[1;39;49m]\u001b[0m\u001b[39;49m A new release of pip is available: \u001b[0m\u001b[31;49m24.2\u001b[0m\u001b[39;49m -> \u001b[0m\u001b[32;49m25.1.1\u001b[0m\n",
      "\u001b[1m[\u001b[0m\u001b[34;49mnotice\u001b[0m\u001b[1;39;49m]\u001b[0m\u001b[39;49m To update, run: \u001b[0m\u001b[32;49mpip install --upgrade pip\u001b[0m\n",
      "Collecting en-core-web-sm==3.8.0\n",
      "  Downloading https://github.com/explosion/spacy-models/releases/download/en_core_web_sm-3.8.0/en_core_web_sm-3.8.0-py3-none-any.whl (12.8 MB)\n",
      "\u001b[2K     \u001b[90m━━━━━━━━━━━━━━━━━━━━━━━━━━━━━━━━━━━━━━━━\u001b[0m \u001b[32m12.8/12.8 MB\u001b[0m \u001b[31m20.2 MB/s\u001b[0m eta \u001b[36m0:00:00\u001b[0m \u001b[36m0:00:01\u001b[0m\n",
      "\u001b[?25h\n",
      "\u001b[1m[\u001b[0m\u001b[34;49mnotice\u001b[0m\u001b[1;39;49m]\u001b[0m\u001b[39;49m A new release of pip is available: \u001b[0m\u001b[31;49m24.2\u001b[0m\u001b[39;49m -> \u001b[0m\u001b[32;49m25.1.1\u001b[0m\n",
      "\u001b[1m[\u001b[0m\u001b[34;49mnotice\u001b[0m\u001b[1;39;49m]\u001b[0m\u001b[39;49m To update, run: \u001b[0m\u001b[32;49mpip install --upgrade pip\u001b[0m\n",
      "\u001b[38;5;2m✔ Download and installation successful\u001b[0m\n",
      "You can now load the package via spacy.load('en_core_web_sm')\n"
     ]
    }
   ],
   "source": [
    "!pip3 install spacy\n",
    "!python3 -m spacy download en_core_web_sm"
   ]
  },
  {
   "cell_type": "code",
   "execution_count": 13,
   "id": "ae15983c",
   "metadata": {},
   "outputs": [],
   "source": [
    "import spacy\n",
    "\n",
    "# Load English model\n",
    "nlp = spacy.load(\"en_core_web_sm\")\n",
    "\n",
    "def find_references_spacy(text):\n",
    "    \"\"\"\n",
    "    Identifies likely reference (anaphora) links in a text using spaCy.\n",
    "    Looks for pronouns that are syntactically dependent on or near proper/common nouns.\n",
    "    \"\"\"\n",
    "\n",
    "    doc = nlp(text)\n",
    "    references = []\n",
    "\n",
    "    for sent in doc.sents:\n",
    "        pronouns = [token for token in sent if token.pos_ == \"PRON\" and token.dep_ != \"poss\"]\n",
    "        candidates = [token for token in sent if token.pos_ in (\"PROPN\", \"NOUN\")]\n",
    "\n",
    "        for pro in pronouns:\n",
    "            # Look backward for potential antecedents (basic heuristic: proximity + sentence-level)\n",
    "            for ant in reversed(candidates):\n",
    "                # Ensure they are not the same word\n",
    "                if ant.i < pro.i:\n",
    "                    # Very basic gender/number compatibility (optional)\n",
    "                    references.append((ant.text, pro.text))\n",
    "                    break  # assume first likely match\n",
    "\n",
    "    return references\n"
   ]
  },
  {
   "cell_type": "code",
   "execution_count": 14,
   "id": "417501eb",
   "metadata": {},
   "outputs": [],
   "source": [
    "# Apply to dataframe\n",
    "ptj_df['references'] = ptj_df['text'].apply(find_references_spacy)\n",
    "smk_df['references'] = smk_df['text'].apply(find_references_spacy)\n",
    "locness_df['references'] = locness_df['content'].apply(find_references_spacy)"
   ]
  },
  {
   "cell_type": "code",
   "execution_count": 15,
   "id": "501f77bb",
   "metadata": {},
   "outputs": [
    {
     "data": {
      "text/html": [
       "<div>\n",
       "<style scoped>\n",
       "    .dataframe tbody tr th:only-of-type {\n",
       "        vertical-align: middle;\n",
       "    }\n",
       "\n",
       "    .dataframe tbody tr th {\n",
       "        vertical-align: top;\n",
       "    }\n",
       "\n",
       "    .dataframe thead th {\n",
       "        text-align: right;\n",
       "    }\n",
       "</style>\n",
       "<table border=\"1\" class=\"dataframe\">\n",
       "  <thead>\n",
       "    <tr style=\"text-align: right;\">\n",
       "      <th></th>\n",
       "      <th>text</th>\n",
       "      <th>references</th>\n",
       "    </tr>\n",
       "  </thead>\n",
       "  <tbody>\n",
       "    <tr>\n",
       "      <th>0</th>\n",
       "      <td>﻿It is important for college student to have p...</td>\n",
       "      <td>[(student, themselves), (chance, them), (a'job...</td>\n",
       "    </tr>\n",
       "    <tr>\n",
       "      <th>1</th>\n",
       "      <td>﻿Most college students get a part time job eve...</td>\n",
       "      <td>[(living, themselves), (fee, they), (fee, I), ...</td>\n",
       "    </tr>\n",
       "    <tr>\n",
       "      <th>2</th>\n",
       "      <td>﻿I believe that it is important for college st...</td>\n",
       "      <td>[(﻿I, it), (Korea, there), (students, who), (s...</td>\n",
       "    </tr>\n",
       "    <tr>\n",
       "      <th>3</th>\n",
       "      <td>﻿Many students are having part time jobs these...</td>\n",
       "      <td>[(reason, they), (money, there), (things, they...</td>\n",
       "    </tr>\n",
       "    <tr>\n",
       "      <th>4</th>\n",
       "      <td>﻿It is during your college years where you can...</td>\n",
       "      <td>[(years, you), (life, I), (jobs, them), (colle...</td>\n",
       "    </tr>\n",
       "  </tbody>\n",
       "</table>\n",
       "</div>"
      ],
      "text/plain": [
       "                                                text  \\\n",
       "0  ﻿It is important for college student to have p...   \n",
       "1  ﻿Most college students get a part time job eve...   \n",
       "2  ﻿I believe that it is important for college st...   \n",
       "3  ﻿Many students are having part time jobs these...   \n",
       "4  ﻿It is during your college years where you can...   \n",
       "\n",
       "                                          references  \n",
       "0  [(student, themselves), (chance, them), (a'job...  \n",
       "1  [(living, themselves), (fee, they), (fee, I), ...  \n",
       "2  [(﻿I, it), (Korea, there), (students, who), (s...  \n",
       "3  [(reason, they), (money, there), (things, they...  \n",
       "4  [(years, you), (life, I), (jobs, them), (colle...  "
      ]
     },
     "execution_count": 15,
     "metadata": {},
     "output_type": "execute_result"
    }
   ],
   "source": [
    "# Output\n",
    "ptj_df[['text', 'references']].head()"
   ]
  },
  {
   "cell_type": "markdown",
   "id": "ed504b50",
   "metadata": {},
   "source": [
    "compute the number of reference pairs for L1 and L2 (these are now ones found through the function 'find_references_spacy')"
   ]
  },
  {
   "cell_type": "code",
   "execution_count": 16,
   "id": "04cefc64",
   "metadata": {},
   "outputs": [],
   "source": [
    "locness_refs = locness_df['references'].apply(len).sum()\n",
    "icnale_refs = smk_df['references'].apply(len).sum() + ptj_df['references'].apply(len).sum()"
   ]
  },
  {
   "cell_type": "code",
   "execution_count": 17,
   "id": "81627e7c",
   "metadata": {},
   "outputs": [
    {
     "name": "stdout",
     "output_type": "stream",
     "text": [
      "711 references in L1 writing, \n",
      "542 references in L2 writing\n"
     ]
    }
   ],
   "source": [
    "L1_cohesions = locness_refs\n",
    "L2_cohesions = icnale_refs\n",
    "print(f\"{L1_cohesions} references in L1 writing, \\n{L2_cohesions} references in L2 writing\")"
   ]
  },
  {
   "cell_type": "markdown",
   "id": "0db187b5",
   "metadata": {},
   "source": [
    "### conjunctions ###"
   ]
  },
  {
   "cell_type": "code",
   "execution_count": 18,
   "id": "b53c68c2",
   "metadata": {},
   "outputs": [],
   "source": [
    "# Define conjunctions to extract\n",
    "conjunctions = r'\\b(and|or|but|yet|so|then)\\b'\n",
    "\n",
    "# Function to extract conjunctions\n",
    "def extract_conjunctions(text):\n",
    "    return re.findall(conjunctions, text, flags=re.IGNORECASE)\n"
   ]
  },
  {
   "cell_type": "code",
   "execution_count": 19,
   "id": "0f2444d9",
   "metadata": {},
   "outputs": [],
   "source": [
    "locness_df['conjunctions'] = locness_df['content'].apply(extract_conjunctions)\n",
    "ptj_df['conjunctions'] = ptj_df['text'].apply(extract_conjunctions)\n",
    "smk_df['conjunctions'] = smk_df['text'].apply(extract_conjunctions)"
   ]
  },
  {
   "cell_type": "code",
   "execution_count": 20,
   "id": "1f48b7ad",
   "metadata": {},
   "outputs": [
    {
     "data": {
      "text/plain": [
       "0                                 [and, and, and, and]\n",
       "1    [and, but, and, So, and, and, and, So, So, but...\n",
       "2             [and, and, and, and, and, but, but, and]\n",
       "3              [but, and, and, and, and, But, and, So]\n",
       "4    [But, And, and, and, And, and, And, and, and, ...\n",
       "Name: conjunctions, dtype: object"
      ]
     },
     "execution_count": 20,
     "metadata": {},
     "output_type": "execute_result"
    }
   ],
   "source": [
    "smk_df['conjunctions'].head()"
   ]
  },
  {
   "cell_type": "code",
   "execution_count": 21,
   "id": "4da7e9da",
   "metadata": {},
   "outputs": [],
   "source": [
    "locness_conj = locness_df['conjunctions'].apply(len).sum()\n",
    "icnale_conj = smk_df['conjunctions'].apply(len).sum() + ptj_df['conjunctions'].apply(len).sum()"
   ]
  },
  {
   "cell_type": "code",
   "execution_count": 22,
   "id": "7b1f4dab",
   "metadata": {},
   "outputs": [
    {
     "name": "stdout",
     "output_type": "stream",
     "text": [
      "662 399\n"
     ]
    }
   ],
   "source": [
    "print(locness_conj, icnale_conj)"
   ]
  },
  {
   "cell_type": "code",
   "execution_count": 23,
   "id": "3f30fdd8",
   "metadata": {},
   "outputs": [
    {
     "name": "stdout",
     "output_type": "stream",
     "text": [
      "1373 overall cohesion features in L1 writing, \n",
      "941 overall cohesion features in L2 writing\n"
     ]
    }
   ],
   "source": [
    "L1_cohesions += locness_conj\n",
    "L2_cohesions += icnale_conj\n",
    "print(f\"{L1_cohesions} overall cohesion features in L1 writing, \\n{L2_cohesions} overall cohesion features in L2 writing\")"
   ]
  },
  {
   "cell_type": "markdown",
   "id": "1dbdca57",
   "metadata": {},
   "source": [
    "### lexical cohesion ###"
   ]
  },
  {
   "cell_type": "code",
   "execution_count": 24,
   "id": "e44f2a25",
   "metadata": {},
   "outputs": [
    {
     "name": "stderr",
     "output_type": "stream",
     "text": [
      "[nltk_data] Downloading package wordnet to\n",
      "[nltk_data]     /Users/Catherine/nltk_data...\n",
      "[nltk_data]   Package wordnet is already up-to-date!\n"
     ]
    },
    {
     "data": {
      "text/plain": [
       "True"
      ]
     },
     "execution_count": 24,
     "metadata": {},
     "output_type": "execute_result"
    }
   ],
   "source": [
    "from nltk.corpus import wordnet as wn\n",
    "\n",
    "nltk.download('wordnet')"
   ]
  },
  {
   "cell_type": "code",
   "execution_count": 25,
   "id": "e8caf782",
   "metadata": {},
   "outputs": [],
   "source": [
    "def get_wordnet_synonyms(word):\n",
    "    \"\"\"Return a set of synonyms for a given word from WordNet.\"\"\"\n",
    "    synonyms = set()\n",
    "    for syn in wn.synsets(word):\n",
    "        for lemma in syn.lemmas():\n",
    "            synonyms.add(lemma.name().lower())\n",
    "    return synonyms\n",
    "\n",
    "def extract_nearby_synonym_pairs(text, max_distance=1):\n",
    "    \"\"\"Find synonym pairs that occur within `max_distance` sentences.\"\"\"\n",
    "    sentences = sent_tokenize(text)\n",
    "    synonym_pairs = []\n",
    "\n",
    "    for i, sent in enumerate(sentences):\n",
    "        words_i = word_tokenize(sent)\n",
    "        words_i = [w.lower() for w in words_i if w.isalpha()]\n",
    "        synonyms_i = {w: get_wordnet_synonyms(w) for w in words_i}\n",
    "\n",
    "        # Compare with nearby sentences\n",
    "        for j in range(i+1, min(i+1+max_distance, len(sentences))):\n",
    "            words_j = word_tokenize(sentences[j])\n",
    "            words_j = [w.lower() for w in words_j if w.isalpha()]\n",
    "            for word1, syns1 in synonyms_i.items():\n",
    "                for word2 in words_j:\n",
    "                    if word2 in syns1 and word1 != word2:\n",
    "                        synonym_pairs.append((word1, word2))\n",
    "\n",
    "    return synonym_pairs\n"
   ]
  },
  {
   "cell_type": "markdown",
   "id": "c4e0ace6",
   "metadata": {},
   "source": [
    "Like references, I was unhappy with the amount of duplicate and trivial pairs found through the original function. I found that too many 'light verbs' like 'have', 'be', and 'give' were picked up as lexical cohesion pairs when they don't really count. Below is an updated iteration that first takes out duplication and some not very adequate synonym pairs and also post-processes the 'light verbs' out. \n",
    "\n",
    "Again I will be overriding the prior columns for simplicity."
   ]
  },
  {
   "cell_type": "code",
   "execution_count": 26,
   "id": "ed385e95",
   "metadata": {},
   "outputs": [
    {
     "name": "stderr",
     "output_type": "stream",
     "text": [
      "[nltk_data] Downloading package omw-1.4 to\n",
      "[nltk_data]     /Users/Catherine/nltk_data...\n",
      "[nltk_data]   Package omw-1.4 is already up-to-date!\n",
      "[nltk_data] Downloading package averaged_perceptron_tagger to\n",
      "[nltk_data]     /Users/Catherine/nltk_data...\n",
      "[nltk_data]   Package averaged_perceptron_tagger is already up-to-\n",
      "[nltk_data]       date!\n"
     ]
    },
    {
     "data": {
      "text/plain": [
       "True"
      ]
     },
     "execution_count": 26,
     "metadata": {},
     "output_type": "execute_result"
    }
   ],
   "source": [
    "nltk.download('omw-1.4')\n",
    "nltk.download('averaged_perceptron_tagger')"
   ]
  },
  {
   "cell_type": "code",
   "execution_count": 27,
   "id": "210475db",
   "metadata": {},
   "outputs": [],
   "source": [
    "import nltk\n",
    "from nltk.corpus import wordnet as wn\n",
    "from nltk.tokenize import sent_tokenize, word_tokenize\n",
    "from nltk.stem import WordNetLemmatizer\n",
    "from collections import defaultdict\n",
    "import string\n",
    "\n",
    "\n",
    "lemmatizer = WordNetLemmatizer()\n",
    "\n",
    "def get_wordnet_pos(tag):\n",
    "    \"\"\"Map POS tag to first character for lemmatization.\"\"\"\n",
    "    if tag.startswith('J'):\n",
    "        return wn.ADJ\n",
    "    elif tag.startswith('V'):\n",
    "        return wn.VERB\n",
    "    elif tag.startswith('N'):\n",
    "        return wn.NOUN\n",
    "    elif tag.startswith('R'):\n",
    "        return wn.ADV\n",
    "    else:\n",
    "        return wn.NOUN  # default to noun\n",
    "\n",
    "def get_synonyms(word, pos):\n",
    "    \"\"\"Return a set of WordNet synonyms for a word and POS.\"\"\"\n",
    "    synonyms = set()\n",
    "    for syn in wn.synsets(word, pos=pos):\n",
    "        for lemma in syn.lemmas():\n",
    "            name = lemma.name().lower().replace(\"_\", \" \")\n",
    "            if name != word:\n",
    "                synonyms.add(name)\n",
    "    return synonyms\n",
    "\n",
    "def extract_lexical_cohesion_pairs(text, max_distance=1):\n",
    "    \"\"\"Find lexical cohesion pairs (synonyms) across nearby sentences.\"\"\"\n",
    "    sentences = sent_tokenize(text)\n",
    "    cohesion_pairs = []\n",
    "\n",
    "    # Preprocess all sentences: tokenize, POS tag, and lemmatize\n",
    "    processed_sentences = []\n",
    "    for sent in sentences:\n",
    "        tokens = word_tokenize(sent)\n",
    "        tagged = nltk.pos_tag(tokens)\n",
    "        lemmatized = [\n",
    "            (lemmatizer.lemmatize(w.lower(), get_wordnet_pos(pos)), get_wordnet_pos(pos))\n",
    "            for w, pos in tagged\n",
    "            if w.isalpha() and w.lower() not in string.punctuation\n",
    "        ]\n",
    "        processed_sentences.append(lemmatized)\n",
    "\n",
    "    # Cache synonyms for unique words across the text\n",
    "    synonym_cache = defaultdict(set)\n",
    "    for sent in processed_sentences:\n",
    "        for word, pos in sent:\n",
    "            if word not in synonym_cache:\n",
    "                synonym_cache[word] = get_synonyms(word, pos)\n",
    "\n",
    "    # Compare across sentence pairs within the given distance\n",
    "    for i in range(len(processed_sentences)):\n",
    "        words_i = [w for w, _ in processed_sentences[i]]\n",
    "        for j in range(i+1, min(i+1+max_distance, len(processed_sentences))):\n",
    "            words_j = [w for w, _ in processed_sentences[j]]\n",
    "            for w1 in words_i:\n",
    "                for w2 in words_j:\n",
    "                    if w2 in synonym_cache[w1] and w1 != w2:\n",
    "                        cohesion_pairs.append((w1, w2))\n",
    "\n",
    "    return cohesion_pairs\n"
   ]
  },
  {
   "cell_type": "code",
   "execution_count": 28,
   "id": "090d2b18",
   "metadata": {},
   "outputs": [],
   "source": [
    "LIGHT_VERBS = {\"do\", \"make\", \"have\", \"be\", \"get\", \"go\", \"put\", \"take\", \"give\"}\n",
    "\n",
    "def del_light_verbs(text):\n",
    "    for i in range(len(text)):\n",
    "        text[i] = [pair for pair in text[i] if pair[0] not in LIGHT_VERBS and pair[1] not in LIGHT_VERBS]\n",
    "    return None"
   ]
  },
  {
   "cell_type": "code",
   "execution_count": 29,
   "id": "66764b27",
   "metadata": {},
   "outputs": [],
   "source": [
    "locness_df['synonyms'] = locness_df['content'].apply(extract_lexical_cohesion_pairs)\n",
    "ptj_df['synonyms'] = ptj_df['text'].apply(extract_lexical_cohesion_pairs)\n",
    "smk_df['synonyms'] = smk_df['text'].apply(extract_lexical_cohesion_pairs)"
   ]
  },
  {
   "cell_type": "code",
   "execution_count": 30,
   "id": "5e440051",
   "metadata": {},
   "outputs": [
    {
     "data": {
      "text/plain": [
       "0     [(make, earn), (make, give), (make, have), (gi...\n",
       "1     [(get, have), (get, make), (make, do), (live, ...\n",
       "2     [(have, take), (take, have), (take, have), (ta...\n",
       "3      [(one, i), (work, influence), (work, influence)]\n",
       "4     [(experience, have), (have, get), (have, exper...\n",
       "5     [(have, let), (have, make), (follow, be), (giv...\n",
       "6     [(do, make), (make, have), (have, take), (have...\n",
       "7     [(wage, pay), (see, hear), (run, work), (run, ...\n",
       "8     [(live, be), (live, be), (one, i), (have, expe...\n",
       "9     [(experience, know), (have, experience), (want...\n",
       "10    [(have, experience), (have, get), (experience,...\n",
       "11    [(i, one), (have, get), (have, experience), (g...\n",
       "12    [(have, experience), (work, go), (have, experi...\n",
       "13    [(have, experience), (aid, help), (get, have),...\n",
       "14    [(take, learn), (take, make), (really, very), ...\n",
       "15    [(have, get), (get, have), (get, have), (get, ...\n",
       "16    [(be, cost), (be, cost), (have, take), (be, co...\n",
       "17            [(about, some), (have, get), (only, but)]\n",
       "18    [(be, live), (live, be), (work, go), (work, ru...\n",
       "19    [(really, very), (get, experience), (have, giv...\n",
       "20    [(have, experience), (business, job), (have, o...\n",
       "21    [(have, sustain), (have, sustain), (sustain, h...\n",
       "22     [(be, cost), (experience, have), (do, exercise)]\n",
       "23    [(have, experience), (have, own), (have, exper...\n",
       "24    [(get, experience), (get, have), (give, have),...\n",
       "Name: synonyms, dtype: object"
      ]
     },
     "execution_count": 30,
     "metadata": {},
     "output_type": "execute_result"
    }
   ],
   "source": [
    "ptj_df['synonyms']"
   ]
  },
  {
   "cell_type": "code",
   "execution_count": 31,
   "id": "0be47ed9",
   "metadata": {},
   "outputs": [
    {
     "name": "stderr",
     "output_type": "stream",
     "text": [
      "/var/folders/ql/480bqgd56wz4x3b25hcy0bhr0000gn/T/ipykernel_67038/543707655.py:5: FutureWarning: Series.__getitem__ treating keys as positions is deprecated. In a future version, integer keys will always be treated as labels (consistent with DataFrame behavior). To access a value by position, use `ser.iloc[pos]`\n",
      "  text[i] = [pair for pair in text[i] if pair[0] not in LIGHT_VERBS and pair[1] not in LIGHT_VERBS]\n",
      "/var/folders/ql/480bqgd56wz4x3b25hcy0bhr0000gn/T/ipykernel_67038/543707655.py:5: FutureWarning: Series.__setitem__ treating keys as positions is deprecated. In a future version, integer keys will always be treated as labels (consistent with DataFrame behavior). To set a value by position, use `ser.iloc[pos] = value`\n",
      "  text[i] = [pair for pair in text[i] if pair[0] not in LIGHT_VERBS and pair[1] not in LIGHT_VERBS]\n",
      "/var/folders/ql/480bqgd56wz4x3b25hcy0bhr0000gn/T/ipykernel_67038/543707655.py:5: FutureWarning: Series.__getitem__ treating keys as positions is deprecated. In a future version, integer keys will always be treated as labels (consistent with DataFrame behavior). To access a value by position, use `ser.iloc[pos]`\n",
      "  text[i] = [pair for pair in text[i] if pair[0] not in LIGHT_VERBS and pair[1] not in LIGHT_VERBS]\n",
      "/var/folders/ql/480bqgd56wz4x3b25hcy0bhr0000gn/T/ipykernel_67038/543707655.py:5: FutureWarning: Series.__setitem__ treating keys as positions is deprecated. In a future version, integer keys will always be treated as labels (consistent with DataFrame behavior). To set a value by position, use `ser.iloc[pos] = value`\n",
      "  text[i] = [pair for pair in text[i] if pair[0] not in LIGHT_VERBS and pair[1] not in LIGHT_VERBS]\n",
      "/var/folders/ql/480bqgd56wz4x3b25hcy0bhr0000gn/T/ipykernel_67038/543707655.py:5: FutureWarning: Series.__getitem__ treating keys as positions is deprecated. In a future version, integer keys will always be treated as labels (consistent with DataFrame behavior). To access a value by position, use `ser.iloc[pos]`\n",
      "  text[i] = [pair for pair in text[i] if pair[0] not in LIGHT_VERBS and pair[1] not in LIGHT_VERBS]\n",
      "/var/folders/ql/480bqgd56wz4x3b25hcy0bhr0000gn/T/ipykernel_67038/543707655.py:5: FutureWarning: Series.__setitem__ treating keys as positions is deprecated. In a future version, integer keys will always be treated as labels (consistent with DataFrame behavior). To set a value by position, use `ser.iloc[pos] = value`\n",
      "  text[i] = [pair for pair in text[i] if pair[0] not in LIGHT_VERBS and pair[1] not in LIGHT_VERBS]\n",
      "/var/folders/ql/480bqgd56wz4x3b25hcy0bhr0000gn/T/ipykernel_67038/543707655.py:5: FutureWarning: Series.__getitem__ treating keys as positions is deprecated. In a future version, integer keys will always be treated as labels (consistent with DataFrame behavior). To access a value by position, use `ser.iloc[pos]`\n",
      "  text[i] = [pair for pair in text[i] if pair[0] not in LIGHT_VERBS and pair[1] not in LIGHT_VERBS]\n",
      "/var/folders/ql/480bqgd56wz4x3b25hcy0bhr0000gn/T/ipykernel_67038/543707655.py:5: FutureWarning: Series.__setitem__ treating keys as positions is deprecated. In a future version, integer keys will always be treated as labels (consistent with DataFrame behavior). To set a value by position, use `ser.iloc[pos] = value`\n",
      "  text[i] = [pair for pair in text[i] if pair[0] not in LIGHT_VERBS and pair[1] not in LIGHT_VERBS]\n",
      "/var/folders/ql/480bqgd56wz4x3b25hcy0bhr0000gn/T/ipykernel_67038/543707655.py:5: FutureWarning: Series.__getitem__ treating keys as positions is deprecated. In a future version, integer keys will always be treated as labels (consistent with DataFrame behavior). To access a value by position, use `ser.iloc[pos]`\n",
      "  text[i] = [pair for pair in text[i] if pair[0] not in LIGHT_VERBS and pair[1] not in LIGHT_VERBS]\n",
      "/var/folders/ql/480bqgd56wz4x3b25hcy0bhr0000gn/T/ipykernel_67038/543707655.py:5: FutureWarning: Series.__setitem__ treating keys as positions is deprecated. In a future version, integer keys will always be treated as labels (consistent with DataFrame behavior). To set a value by position, use `ser.iloc[pos] = value`\n",
      "  text[i] = [pair for pair in text[i] if pair[0] not in LIGHT_VERBS and pair[1] not in LIGHT_VERBS]\n",
      "/var/folders/ql/480bqgd56wz4x3b25hcy0bhr0000gn/T/ipykernel_67038/543707655.py:5: FutureWarning: Series.__getitem__ treating keys as positions is deprecated. In a future version, integer keys will always be treated as labels (consistent with DataFrame behavior). To access a value by position, use `ser.iloc[pos]`\n",
      "  text[i] = [pair for pair in text[i] if pair[0] not in LIGHT_VERBS and pair[1] not in LIGHT_VERBS]\n",
      "/var/folders/ql/480bqgd56wz4x3b25hcy0bhr0000gn/T/ipykernel_67038/543707655.py:5: FutureWarning: Series.__setitem__ treating keys as positions is deprecated. In a future version, integer keys will always be treated as labels (consistent with DataFrame behavior). To set a value by position, use `ser.iloc[pos] = value`\n",
      "  text[i] = [pair for pair in text[i] if pair[0] not in LIGHT_VERBS and pair[1] not in LIGHT_VERBS]\n",
      "/var/folders/ql/480bqgd56wz4x3b25hcy0bhr0000gn/T/ipykernel_67038/543707655.py:5: FutureWarning: Series.__getitem__ treating keys as positions is deprecated. In a future version, integer keys will always be treated as labels (consistent with DataFrame behavior). To access a value by position, use `ser.iloc[pos]`\n",
      "  text[i] = [pair for pair in text[i] if pair[0] not in LIGHT_VERBS and pair[1] not in LIGHT_VERBS]\n",
      "/var/folders/ql/480bqgd56wz4x3b25hcy0bhr0000gn/T/ipykernel_67038/543707655.py:5: FutureWarning: Series.__setitem__ treating keys as positions is deprecated. In a future version, integer keys will always be treated as labels (consistent with DataFrame behavior). To set a value by position, use `ser.iloc[pos] = value`\n",
      "  text[i] = [pair for pair in text[i] if pair[0] not in LIGHT_VERBS and pair[1] not in LIGHT_VERBS]\n",
      "/var/folders/ql/480bqgd56wz4x3b25hcy0bhr0000gn/T/ipykernel_67038/543707655.py:5: FutureWarning: Series.__getitem__ treating keys as positions is deprecated. In a future version, integer keys will always be treated as labels (consistent with DataFrame behavior). To access a value by position, use `ser.iloc[pos]`\n",
      "  text[i] = [pair for pair in text[i] if pair[0] not in LIGHT_VERBS and pair[1] not in LIGHT_VERBS]\n",
      "/var/folders/ql/480bqgd56wz4x3b25hcy0bhr0000gn/T/ipykernel_67038/543707655.py:5: FutureWarning: Series.__setitem__ treating keys as positions is deprecated. In a future version, integer keys will always be treated as labels (consistent with DataFrame behavior). To set a value by position, use `ser.iloc[pos] = value`\n",
      "  text[i] = [pair for pair in text[i] if pair[0] not in LIGHT_VERBS and pair[1] not in LIGHT_VERBS]\n",
      "/var/folders/ql/480bqgd56wz4x3b25hcy0bhr0000gn/T/ipykernel_67038/543707655.py:5: FutureWarning: Series.__getitem__ treating keys as positions is deprecated. In a future version, integer keys will always be treated as labels (consistent with DataFrame behavior). To access a value by position, use `ser.iloc[pos]`\n",
      "  text[i] = [pair for pair in text[i] if pair[0] not in LIGHT_VERBS and pair[1] not in LIGHT_VERBS]\n",
      "/var/folders/ql/480bqgd56wz4x3b25hcy0bhr0000gn/T/ipykernel_67038/543707655.py:5: FutureWarning: Series.__setitem__ treating keys as positions is deprecated. In a future version, integer keys will always be treated as labels (consistent with DataFrame behavior). To set a value by position, use `ser.iloc[pos] = value`\n",
      "  text[i] = [pair for pair in text[i] if pair[0] not in LIGHT_VERBS and pair[1] not in LIGHT_VERBS]\n",
      "/var/folders/ql/480bqgd56wz4x3b25hcy0bhr0000gn/T/ipykernel_67038/543707655.py:5: FutureWarning: Series.__getitem__ treating keys as positions is deprecated. In a future version, integer keys will always be treated as labels (consistent with DataFrame behavior). To access a value by position, use `ser.iloc[pos]`\n",
      "  text[i] = [pair for pair in text[i] if pair[0] not in LIGHT_VERBS and pair[1] not in LIGHT_VERBS]\n",
      "/var/folders/ql/480bqgd56wz4x3b25hcy0bhr0000gn/T/ipykernel_67038/543707655.py:5: FutureWarning: Series.__setitem__ treating keys as positions is deprecated. In a future version, integer keys will always be treated as labels (consistent with DataFrame behavior). To set a value by position, use `ser.iloc[pos] = value`\n",
      "  text[i] = [pair for pair in text[i] if pair[0] not in LIGHT_VERBS and pair[1] not in LIGHT_VERBS]\n",
      "/var/folders/ql/480bqgd56wz4x3b25hcy0bhr0000gn/T/ipykernel_67038/543707655.py:5: FutureWarning: Series.__getitem__ treating keys as positions is deprecated. In a future version, integer keys will always be treated as labels (consistent with DataFrame behavior). To access a value by position, use `ser.iloc[pos]`\n",
      "  text[i] = [pair for pair in text[i] if pair[0] not in LIGHT_VERBS and pair[1] not in LIGHT_VERBS]\n",
      "/var/folders/ql/480bqgd56wz4x3b25hcy0bhr0000gn/T/ipykernel_67038/543707655.py:5: FutureWarning: Series.__setitem__ treating keys as positions is deprecated. In a future version, integer keys will always be treated as labels (consistent with DataFrame behavior). To set a value by position, use `ser.iloc[pos] = value`\n",
      "  text[i] = [pair for pair in text[i] if pair[0] not in LIGHT_VERBS and pair[1] not in LIGHT_VERBS]\n",
      "/var/folders/ql/480bqgd56wz4x3b25hcy0bhr0000gn/T/ipykernel_67038/543707655.py:5: FutureWarning: Series.__getitem__ treating keys as positions is deprecated. In a future version, integer keys will always be treated as labels (consistent with DataFrame behavior). To access a value by position, use `ser.iloc[pos]`\n",
      "  text[i] = [pair for pair in text[i] if pair[0] not in LIGHT_VERBS and pair[1] not in LIGHT_VERBS]\n",
      "/var/folders/ql/480bqgd56wz4x3b25hcy0bhr0000gn/T/ipykernel_67038/543707655.py:5: FutureWarning: Series.__setitem__ treating keys as positions is deprecated. In a future version, integer keys will always be treated as labels (consistent with DataFrame behavior). To set a value by position, use `ser.iloc[pos] = value`\n",
      "  text[i] = [pair for pair in text[i] if pair[0] not in LIGHT_VERBS and pair[1] not in LIGHT_VERBS]\n",
      "/var/folders/ql/480bqgd56wz4x3b25hcy0bhr0000gn/T/ipykernel_67038/543707655.py:5: FutureWarning: Series.__getitem__ treating keys as positions is deprecated. In a future version, integer keys will always be treated as labels (consistent with DataFrame behavior). To access a value by position, use `ser.iloc[pos]`\n",
      "  text[i] = [pair for pair in text[i] if pair[0] not in LIGHT_VERBS and pair[1] not in LIGHT_VERBS]\n",
      "/var/folders/ql/480bqgd56wz4x3b25hcy0bhr0000gn/T/ipykernel_67038/543707655.py:5: FutureWarning: Series.__setitem__ treating keys as positions is deprecated. In a future version, integer keys will always be treated as labels (consistent with DataFrame behavior). To set a value by position, use `ser.iloc[pos] = value`\n",
      "  text[i] = [pair for pair in text[i] if pair[0] not in LIGHT_VERBS and pair[1] not in LIGHT_VERBS]\n",
      "/var/folders/ql/480bqgd56wz4x3b25hcy0bhr0000gn/T/ipykernel_67038/543707655.py:5: FutureWarning: Series.__getitem__ treating keys as positions is deprecated. In a future version, integer keys will always be treated as labels (consistent with DataFrame behavior). To access a value by position, use `ser.iloc[pos]`\n",
      "  text[i] = [pair for pair in text[i] if pair[0] not in LIGHT_VERBS and pair[1] not in LIGHT_VERBS]\n",
      "/var/folders/ql/480bqgd56wz4x3b25hcy0bhr0000gn/T/ipykernel_67038/543707655.py:5: FutureWarning: Series.__setitem__ treating keys as positions is deprecated. In a future version, integer keys will always be treated as labels (consistent with DataFrame behavior). To set a value by position, use `ser.iloc[pos] = value`\n",
      "  text[i] = [pair for pair in text[i] if pair[0] not in LIGHT_VERBS and pair[1] not in LIGHT_VERBS]\n",
      "/var/folders/ql/480bqgd56wz4x3b25hcy0bhr0000gn/T/ipykernel_67038/543707655.py:5: FutureWarning: Series.__getitem__ treating keys as positions is deprecated. In a future version, integer keys will always be treated as labels (consistent with DataFrame behavior). To access a value by position, use `ser.iloc[pos]`\n",
      "  text[i] = [pair for pair in text[i] if pair[0] not in LIGHT_VERBS and pair[1] not in LIGHT_VERBS]\n",
      "/var/folders/ql/480bqgd56wz4x3b25hcy0bhr0000gn/T/ipykernel_67038/543707655.py:5: FutureWarning: Series.__setitem__ treating keys as positions is deprecated. In a future version, integer keys will always be treated as labels (consistent with DataFrame behavior). To set a value by position, use `ser.iloc[pos] = value`\n",
      "  text[i] = [pair for pair in text[i] if pair[0] not in LIGHT_VERBS and pair[1] not in LIGHT_VERBS]\n",
      "/var/folders/ql/480bqgd56wz4x3b25hcy0bhr0000gn/T/ipykernel_67038/543707655.py:5: FutureWarning: Series.__getitem__ treating keys as positions is deprecated. In a future version, integer keys will always be treated as labels (consistent with DataFrame behavior). To access a value by position, use `ser.iloc[pos]`\n",
      "  text[i] = [pair for pair in text[i] if pair[0] not in LIGHT_VERBS and pair[1] not in LIGHT_VERBS]\n",
      "/var/folders/ql/480bqgd56wz4x3b25hcy0bhr0000gn/T/ipykernel_67038/543707655.py:5: FutureWarning: Series.__setitem__ treating keys as positions is deprecated. In a future version, integer keys will always be treated as labels (consistent with DataFrame behavior). To set a value by position, use `ser.iloc[pos] = value`\n",
      "  text[i] = [pair for pair in text[i] if pair[0] not in LIGHT_VERBS and pair[1] not in LIGHT_VERBS]\n",
      "/var/folders/ql/480bqgd56wz4x3b25hcy0bhr0000gn/T/ipykernel_67038/543707655.py:5: FutureWarning: Series.__getitem__ treating keys as positions is deprecated. In a future version, integer keys will always be treated as labels (consistent with DataFrame behavior). To access a value by position, use `ser.iloc[pos]`\n",
      "  text[i] = [pair for pair in text[i] if pair[0] not in LIGHT_VERBS and pair[1] not in LIGHT_VERBS]\n",
      "/var/folders/ql/480bqgd56wz4x3b25hcy0bhr0000gn/T/ipykernel_67038/543707655.py:5: FutureWarning: Series.__setitem__ treating keys as positions is deprecated. In a future version, integer keys will always be treated as labels (consistent with DataFrame behavior). To set a value by position, use `ser.iloc[pos] = value`\n",
      "  text[i] = [pair for pair in text[i] if pair[0] not in LIGHT_VERBS and pair[1] not in LIGHT_VERBS]\n",
      "/var/folders/ql/480bqgd56wz4x3b25hcy0bhr0000gn/T/ipykernel_67038/543707655.py:5: FutureWarning: Series.__getitem__ treating keys as positions is deprecated. In a future version, integer keys will always be treated as labels (consistent with DataFrame behavior). To access a value by position, use `ser.iloc[pos]`\n",
      "  text[i] = [pair for pair in text[i] if pair[0] not in LIGHT_VERBS and pair[1] not in LIGHT_VERBS]\n",
      "/var/folders/ql/480bqgd56wz4x3b25hcy0bhr0000gn/T/ipykernel_67038/543707655.py:5: FutureWarning: Series.__setitem__ treating keys as positions is deprecated. In a future version, integer keys will always be treated as labels (consistent with DataFrame behavior). To set a value by position, use `ser.iloc[pos] = value`\n",
      "  text[i] = [pair for pair in text[i] if pair[0] not in LIGHT_VERBS and pair[1] not in LIGHT_VERBS]\n",
      "/var/folders/ql/480bqgd56wz4x3b25hcy0bhr0000gn/T/ipykernel_67038/543707655.py:5: FutureWarning: Series.__getitem__ treating keys as positions is deprecated. In a future version, integer keys will always be treated as labels (consistent with DataFrame behavior). To access a value by position, use `ser.iloc[pos]`\n",
      "  text[i] = [pair for pair in text[i] if pair[0] not in LIGHT_VERBS and pair[1] not in LIGHT_VERBS]\n",
      "/var/folders/ql/480bqgd56wz4x3b25hcy0bhr0000gn/T/ipykernel_67038/543707655.py:5: FutureWarning: Series.__setitem__ treating keys as positions is deprecated. In a future version, integer keys will always be treated as labels (consistent with DataFrame behavior). To set a value by position, use `ser.iloc[pos] = value`\n",
      "  text[i] = [pair for pair in text[i] if pair[0] not in LIGHT_VERBS and pair[1] not in LIGHT_VERBS]\n",
      "/var/folders/ql/480bqgd56wz4x3b25hcy0bhr0000gn/T/ipykernel_67038/543707655.py:5: FutureWarning: Series.__getitem__ treating keys as positions is deprecated. In a future version, integer keys will always be treated as labels (consistent with DataFrame behavior). To access a value by position, use `ser.iloc[pos]`\n",
      "  text[i] = [pair for pair in text[i] if pair[0] not in LIGHT_VERBS and pair[1] not in LIGHT_VERBS]\n",
      "/var/folders/ql/480bqgd56wz4x3b25hcy0bhr0000gn/T/ipykernel_67038/543707655.py:5: FutureWarning: Series.__setitem__ treating keys as positions is deprecated. In a future version, integer keys will always be treated as labels (consistent with DataFrame behavior). To set a value by position, use `ser.iloc[pos] = value`\n",
      "  text[i] = [pair for pair in text[i] if pair[0] not in LIGHT_VERBS and pair[1] not in LIGHT_VERBS]\n",
      "/var/folders/ql/480bqgd56wz4x3b25hcy0bhr0000gn/T/ipykernel_67038/543707655.py:5: FutureWarning: Series.__getitem__ treating keys as positions is deprecated. In a future version, integer keys will always be treated as labels (consistent with DataFrame behavior). To access a value by position, use `ser.iloc[pos]`\n",
      "  text[i] = [pair for pair in text[i] if pair[0] not in LIGHT_VERBS and pair[1] not in LIGHT_VERBS]\n",
      "/var/folders/ql/480bqgd56wz4x3b25hcy0bhr0000gn/T/ipykernel_67038/543707655.py:5: FutureWarning: Series.__setitem__ treating keys as positions is deprecated. In a future version, integer keys will always be treated as labels (consistent with DataFrame behavior). To set a value by position, use `ser.iloc[pos] = value`\n",
      "  text[i] = [pair for pair in text[i] if pair[0] not in LIGHT_VERBS and pair[1] not in LIGHT_VERBS]\n",
      "/var/folders/ql/480bqgd56wz4x3b25hcy0bhr0000gn/T/ipykernel_67038/543707655.py:5: FutureWarning: Series.__getitem__ treating keys as positions is deprecated. In a future version, integer keys will always be treated as labels (consistent with DataFrame behavior). To access a value by position, use `ser.iloc[pos]`\n",
      "  text[i] = [pair for pair in text[i] if pair[0] not in LIGHT_VERBS and pair[1] not in LIGHT_VERBS]\n",
      "/var/folders/ql/480bqgd56wz4x3b25hcy0bhr0000gn/T/ipykernel_67038/543707655.py:5: FutureWarning: Series.__setitem__ treating keys as positions is deprecated. In a future version, integer keys will always be treated as labels (consistent with DataFrame behavior). To set a value by position, use `ser.iloc[pos] = value`\n",
      "  text[i] = [pair for pair in text[i] if pair[0] not in LIGHT_VERBS and pair[1] not in LIGHT_VERBS]\n",
      "/var/folders/ql/480bqgd56wz4x3b25hcy0bhr0000gn/T/ipykernel_67038/543707655.py:5: FutureWarning: Series.__getitem__ treating keys as positions is deprecated. In a future version, integer keys will always be treated as labels (consistent with DataFrame behavior). To access a value by position, use `ser.iloc[pos]`\n",
      "  text[i] = [pair for pair in text[i] if pair[0] not in LIGHT_VERBS and pair[1] not in LIGHT_VERBS]\n",
      "/var/folders/ql/480bqgd56wz4x3b25hcy0bhr0000gn/T/ipykernel_67038/543707655.py:5: FutureWarning: Series.__setitem__ treating keys as positions is deprecated. In a future version, integer keys will always be treated as labels (consistent with DataFrame behavior). To set a value by position, use `ser.iloc[pos] = value`\n",
      "  text[i] = [pair for pair in text[i] if pair[0] not in LIGHT_VERBS and pair[1] not in LIGHT_VERBS]\n",
      "/var/folders/ql/480bqgd56wz4x3b25hcy0bhr0000gn/T/ipykernel_67038/543707655.py:5: FutureWarning: Series.__getitem__ treating keys as positions is deprecated. In a future version, integer keys will always be treated as labels (consistent with DataFrame behavior). To access a value by position, use `ser.iloc[pos]`\n",
      "  text[i] = [pair for pair in text[i] if pair[0] not in LIGHT_VERBS and pair[1] not in LIGHT_VERBS]\n",
      "/var/folders/ql/480bqgd56wz4x3b25hcy0bhr0000gn/T/ipykernel_67038/543707655.py:5: FutureWarning: Series.__setitem__ treating keys as positions is deprecated. In a future version, integer keys will always be treated as labels (consistent with DataFrame behavior). To set a value by position, use `ser.iloc[pos] = value`\n",
      "  text[i] = [pair for pair in text[i] if pair[0] not in LIGHT_VERBS and pair[1] not in LIGHT_VERBS]\n",
      "/var/folders/ql/480bqgd56wz4x3b25hcy0bhr0000gn/T/ipykernel_67038/543707655.py:5: FutureWarning: Series.__getitem__ treating keys as positions is deprecated. In a future version, integer keys will always be treated as labels (consistent with DataFrame behavior). To access a value by position, use `ser.iloc[pos]`\n",
      "  text[i] = [pair for pair in text[i] if pair[0] not in LIGHT_VERBS and pair[1] not in LIGHT_VERBS]\n",
      "/var/folders/ql/480bqgd56wz4x3b25hcy0bhr0000gn/T/ipykernel_67038/543707655.py:5: FutureWarning: Series.__setitem__ treating keys as positions is deprecated. In a future version, integer keys will always be treated as labels (consistent with DataFrame behavior). To set a value by position, use `ser.iloc[pos] = value`\n",
      "  text[i] = [pair for pair in text[i] if pair[0] not in LIGHT_VERBS and pair[1] not in LIGHT_VERBS]\n",
      "/var/folders/ql/480bqgd56wz4x3b25hcy0bhr0000gn/T/ipykernel_67038/543707655.py:5: FutureWarning: Series.__getitem__ treating keys as positions is deprecated. In a future version, integer keys will always be treated as labels (consistent with DataFrame behavior). To access a value by position, use `ser.iloc[pos]`\n",
      "  text[i] = [pair for pair in text[i] if pair[0] not in LIGHT_VERBS and pair[1] not in LIGHT_VERBS]\n",
      "/var/folders/ql/480bqgd56wz4x3b25hcy0bhr0000gn/T/ipykernel_67038/543707655.py:5: FutureWarning: Series.__setitem__ treating keys as positions is deprecated. In a future version, integer keys will always be treated as labels (consistent with DataFrame behavior). To set a value by position, use `ser.iloc[pos] = value`\n",
      "  text[i] = [pair for pair in text[i] if pair[0] not in LIGHT_VERBS and pair[1] not in LIGHT_VERBS]\n",
      "/var/folders/ql/480bqgd56wz4x3b25hcy0bhr0000gn/T/ipykernel_67038/543707655.py:5: FutureWarning: Series.__getitem__ treating keys as positions is deprecated. In a future version, integer keys will always be treated as labels (consistent with DataFrame behavior). To access a value by position, use `ser.iloc[pos]`\n",
      "  text[i] = [pair for pair in text[i] if pair[0] not in LIGHT_VERBS and pair[1] not in LIGHT_VERBS]\n",
      "/var/folders/ql/480bqgd56wz4x3b25hcy0bhr0000gn/T/ipykernel_67038/543707655.py:5: FutureWarning: Series.__setitem__ treating keys as positions is deprecated. In a future version, integer keys will always be treated as labels (consistent with DataFrame behavior). To set a value by position, use `ser.iloc[pos] = value`\n",
      "  text[i] = [pair for pair in text[i] if pair[0] not in LIGHT_VERBS and pair[1] not in LIGHT_VERBS]\n",
      "/var/folders/ql/480bqgd56wz4x3b25hcy0bhr0000gn/T/ipykernel_67038/543707655.py:5: FutureWarning: Series.__getitem__ treating keys as positions is deprecated. In a future version, integer keys will always be treated as labels (consistent with DataFrame behavior). To access a value by position, use `ser.iloc[pos]`\n",
      "  text[i] = [pair for pair in text[i] if pair[0] not in LIGHT_VERBS and pair[1] not in LIGHT_VERBS]\n",
      "/var/folders/ql/480bqgd56wz4x3b25hcy0bhr0000gn/T/ipykernel_67038/543707655.py:5: FutureWarning: Series.__setitem__ treating keys as positions is deprecated. In a future version, integer keys will always be treated as labels (consistent with DataFrame behavior). To set a value by position, use `ser.iloc[pos] = value`\n",
      "  text[i] = [pair for pair in text[i] if pair[0] not in LIGHT_VERBS and pair[1] not in LIGHT_VERBS]\n",
      "/var/folders/ql/480bqgd56wz4x3b25hcy0bhr0000gn/T/ipykernel_67038/543707655.py:5: FutureWarning: Series.__getitem__ treating keys as positions is deprecated. In a future version, integer keys will always be treated as labels (consistent with DataFrame behavior). To access a value by position, use `ser.iloc[pos]`\n",
      "  text[i] = [pair for pair in text[i] if pair[0] not in LIGHT_VERBS and pair[1] not in LIGHT_VERBS]\n",
      "/var/folders/ql/480bqgd56wz4x3b25hcy0bhr0000gn/T/ipykernel_67038/543707655.py:5: FutureWarning: Series.__setitem__ treating keys as positions is deprecated. In a future version, integer keys will always be treated as labels (consistent with DataFrame behavior). To set a value by position, use `ser.iloc[pos] = value`\n",
      "  text[i] = [pair for pair in text[i] if pair[0] not in LIGHT_VERBS and pair[1] not in LIGHT_VERBS]\n",
      "/var/folders/ql/480bqgd56wz4x3b25hcy0bhr0000gn/T/ipykernel_67038/543707655.py:5: FutureWarning: Series.__getitem__ treating keys as positions is deprecated. In a future version, integer keys will always be treated as labels (consistent with DataFrame behavior). To access a value by position, use `ser.iloc[pos]`\n",
      "  text[i] = [pair for pair in text[i] if pair[0] not in LIGHT_VERBS and pair[1] not in LIGHT_VERBS]\n",
      "/var/folders/ql/480bqgd56wz4x3b25hcy0bhr0000gn/T/ipykernel_67038/543707655.py:5: FutureWarning: Series.__setitem__ treating keys as positions is deprecated. In a future version, integer keys will always be treated as labels (consistent with DataFrame behavior). To set a value by position, use `ser.iloc[pos] = value`\n",
      "  text[i] = [pair for pair in text[i] if pair[0] not in LIGHT_VERBS and pair[1] not in LIGHT_VERBS]\n",
      "/var/folders/ql/480bqgd56wz4x3b25hcy0bhr0000gn/T/ipykernel_67038/543707655.py:5: FutureWarning: Series.__getitem__ treating keys as positions is deprecated. In a future version, integer keys will always be treated as labels (consistent with DataFrame behavior). To access a value by position, use `ser.iloc[pos]`\n",
      "  text[i] = [pair for pair in text[i] if pair[0] not in LIGHT_VERBS and pair[1] not in LIGHT_VERBS]\n",
      "/var/folders/ql/480bqgd56wz4x3b25hcy0bhr0000gn/T/ipykernel_67038/543707655.py:5: FutureWarning: Series.__setitem__ treating keys as positions is deprecated. In a future version, integer keys will always be treated as labels (consistent with DataFrame behavior). To set a value by position, use `ser.iloc[pos] = value`\n",
      "  text[i] = [pair for pair in text[i] if pair[0] not in LIGHT_VERBS and pair[1] not in LIGHT_VERBS]\n",
      "/var/folders/ql/480bqgd56wz4x3b25hcy0bhr0000gn/T/ipykernel_67038/543707655.py:5: FutureWarning: Series.__getitem__ treating keys as positions is deprecated. In a future version, integer keys will always be treated as labels (consistent with DataFrame behavior). To access a value by position, use `ser.iloc[pos]`\n",
      "  text[i] = [pair for pair in text[i] if pair[0] not in LIGHT_VERBS and pair[1] not in LIGHT_VERBS]\n",
      "/var/folders/ql/480bqgd56wz4x3b25hcy0bhr0000gn/T/ipykernel_67038/543707655.py:5: FutureWarning: Series.__setitem__ treating keys as positions is deprecated. In a future version, integer keys will always be treated as labels (consistent with DataFrame behavior). To set a value by position, use `ser.iloc[pos] = value`\n",
      "  text[i] = [pair for pair in text[i] if pair[0] not in LIGHT_VERBS and pair[1] not in LIGHT_VERBS]\n",
      "/var/folders/ql/480bqgd56wz4x3b25hcy0bhr0000gn/T/ipykernel_67038/543707655.py:5: FutureWarning: Series.__getitem__ treating keys as positions is deprecated. In a future version, integer keys will always be treated as labels (consistent with DataFrame behavior). To access a value by position, use `ser.iloc[pos]`\n",
      "  text[i] = [pair for pair in text[i] if pair[0] not in LIGHT_VERBS and pair[1] not in LIGHT_VERBS]\n",
      "/var/folders/ql/480bqgd56wz4x3b25hcy0bhr0000gn/T/ipykernel_67038/543707655.py:5: FutureWarning: Series.__setitem__ treating keys as positions is deprecated. In a future version, integer keys will always be treated as labels (consistent with DataFrame behavior). To set a value by position, use `ser.iloc[pos] = value`\n",
      "  text[i] = [pair for pair in text[i] if pair[0] not in LIGHT_VERBS and pair[1] not in LIGHT_VERBS]\n",
      "/var/folders/ql/480bqgd56wz4x3b25hcy0bhr0000gn/T/ipykernel_67038/543707655.py:5: FutureWarning: Series.__getitem__ treating keys as positions is deprecated. In a future version, integer keys will always be treated as labels (consistent with DataFrame behavior). To access a value by position, use `ser.iloc[pos]`\n",
      "  text[i] = [pair for pair in text[i] if pair[0] not in LIGHT_VERBS and pair[1] not in LIGHT_VERBS]\n",
      "/var/folders/ql/480bqgd56wz4x3b25hcy0bhr0000gn/T/ipykernel_67038/543707655.py:5: FutureWarning: Series.__setitem__ treating keys as positions is deprecated. In a future version, integer keys will always be treated as labels (consistent with DataFrame behavior). To set a value by position, use `ser.iloc[pos] = value`\n",
      "  text[i] = [pair for pair in text[i] if pair[0] not in LIGHT_VERBS and pair[1] not in LIGHT_VERBS]\n",
      "/var/folders/ql/480bqgd56wz4x3b25hcy0bhr0000gn/T/ipykernel_67038/543707655.py:5: FutureWarning: Series.__getitem__ treating keys as positions is deprecated. In a future version, integer keys will always be treated as labels (consistent with DataFrame behavior). To access a value by position, use `ser.iloc[pos]`\n",
      "  text[i] = [pair for pair in text[i] if pair[0] not in LIGHT_VERBS and pair[1] not in LIGHT_VERBS]\n",
      "/var/folders/ql/480bqgd56wz4x3b25hcy0bhr0000gn/T/ipykernel_67038/543707655.py:5: FutureWarning: Series.__setitem__ treating keys as positions is deprecated. In a future version, integer keys will always be treated as labels (consistent with DataFrame behavior). To set a value by position, use `ser.iloc[pos] = value`\n",
      "  text[i] = [pair for pair in text[i] if pair[0] not in LIGHT_VERBS and pair[1] not in LIGHT_VERBS]\n",
      "/var/folders/ql/480bqgd56wz4x3b25hcy0bhr0000gn/T/ipykernel_67038/543707655.py:5: FutureWarning: Series.__getitem__ treating keys as positions is deprecated. In a future version, integer keys will always be treated as labels (consistent with DataFrame behavior). To access a value by position, use `ser.iloc[pos]`\n",
      "  text[i] = [pair for pair in text[i] if pair[0] not in LIGHT_VERBS and pair[1] not in LIGHT_VERBS]\n",
      "/var/folders/ql/480bqgd56wz4x3b25hcy0bhr0000gn/T/ipykernel_67038/543707655.py:5: FutureWarning: Series.__setitem__ treating keys as positions is deprecated. In a future version, integer keys will always be treated as labels (consistent with DataFrame behavior). To set a value by position, use `ser.iloc[pos] = value`\n",
      "  text[i] = [pair for pair in text[i] if pair[0] not in LIGHT_VERBS and pair[1] not in LIGHT_VERBS]\n",
      "/var/folders/ql/480bqgd56wz4x3b25hcy0bhr0000gn/T/ipykernel_67038/543707655.py:5: FutureWarning: Series.__getitem__ treating keys as positions is deprecated. In a future version, integer keys will always be treated as labels (consistent with DataFrame behavior). To access a value by position, use `ser.iloc[pos]`\n",
      "  text[i] = [pair for pair in text[i] if pair[0] not in LIGHT_VERBS and pair[1] not in LIGHT_VERBS]\n",
      "/var/folders/ql/480bqgd56wz4x3b25hcy0bhr0000gn/T/ipykernel_67038/543707655.py:5: FutureWarning: Series.__setitem__ treating keys as positions is deprecated. In a future version, integer keys will always be treated as labels (consistent with DataFrame behavior). To set a value by position, use `ser.iloc[pos] = value`\n",
      "  text[i] = [pair for pair in text[i] if pair[0] not in LIGHT_VERBS and pair[1] not in LIGHT_VERBS]\n",
      "/var/folders/ql/480bqgd56wz4x3b25hcy0bhr0000gn/T/ipykernel_67038/543707655.py:5: FutureWarning: Series.__getitem__ treating keys as positions is deprecated. In a future version, integer keys will always be treated as labels (consistent with DataFrame behavior). To access a value by position, use `ser.iloc[pos]`\n",
      "  text[i] = [pair for pair in text[i] if pair[0] not in LIGHT_VERBS and pair[1] not in LIGHT_VERBS]\n",
      "/var/folders/ql/480bqgd56wz4x3b25hcy0bhr0000gn/T/ipykernel_67038/543707655.py:5: FutureWarning: Series.__setitem__ treating keys as positions is deprecated. In a future version, integer keys will always be treated as labels (consistent with DataFrame behavior). To set a value by position, use `ser.iloc[pos] = value`\n",
      "  text[i] = [pair for pair in text[i] if pair[0] not in LIGHT_VERBS and pair[1] not in LIGHT_VERBS]\n",
      "/var/folders/ql/480bqgd56wz4x3b25hcy0bhr0000gn/T/ipykernel_67038/543707655.py:5: FutureWarning: Series.__getitem__ treating keys as positions is deprecated. In a future version, integer keys will always be treated as labels (consistent with DataFrame behavior). To access a value by position, use `ser.iloc[pos]`\n",
      "  text[i] = [pair for pair in text[i] if pair[0] not in LIGHT_VERBS and pair[1] not in LIGHT_VERBS]\n",
      "/var/folders/ql/480bqgd56wz4x3b25hcy0bhr0000gn/T/ipykernel_67038/543707655.py:5: FutureWarning: Series.__setitem__ treating keys as positions is deprecated. In a future version, integer keys will always be treated as labels (consistent with DataFrame behavior). To set a value by position, use `ser.iloc[pos] = value`\n",
      "  text[i] = [pair for pair in text[i] if pair[0] not in LIGHT_VERBS and pair[1] not in LIGHT_VERBS]\n",
      "/var/folders/ql/480bqgd56wz4x3b25hcy0bhr0000gn/T/ipykernel_67038/543707655.py:5: FutureWarning: Series.__getitem__ treating keys as positions is deprecated. In a future version, integer keys will always be treated as labels (consistent with DataFrame behavior). To access a value by position, use `ser.iloc[pos]`\n",
      "  text[i] = [pair for pair in text[i] if pair[0] not in LIGHT_VERBS and pair[1] not in LIGHT_VERBS]\n",
      "/var/folders/ql/480bqgd56wz4x3b25hcy0bhr0000gn/T/ipykernel_67038/543707655.py:5: FutureWarning: Series.__setitem__ treating keys as positions is deprecated. In a future version, integer keys will always be treated as labels (consistent with DataFrame behavior). To set a value by position, use `ser.iloc[pos] = value`\n",
      "  text[i] = [pair for pair in text[i] if pair[0] not in LIGHT_VERBS and pair[1] not in LIGHT_VERBS]\n",
      "/var/folders/ql/480bqgd56wz4x3b25hcy0bhr0000gn/T/ipykernel_67038/543707655.py:5: FutureWarning: Series.__getitem__ treating keys as positions is deprecated. In a future version, integer keys will always be treated as labels (consistent with DataFrame behavior). To access a value by position, use `ser.iloc[pos]`\n",
      "  text[i] = [pair for pair in text[i] if pair[0] not in LIGHT_VERBS and pair[1] not in LIGHT_VERBS]\n",
      "/var/folders/ql/480bqgd56wz4x3b25hcy0bhr0000gn/T/ipykernel_67038/543707655.py:5: FutureWarning: Series.__setitem__ treating keys as positions is deprecated. In a future version, integer keys will always be treated as labels (consistent with DataFrame behavior). To set a value by position, use `ser.iloc[pos] = value`\n",
      "  text[i] = [pair for pair in text[i] if pair[0] not in LIGHT_VERBS and pair[1] not in LIGHT_VERBS]\n",
      "/var/folders/ql/480bqgd56wz4x3b25hcy0bhr0000gn/T/ipykernel_67038/543707655.py:5: FutureWarning: Series.__getitem__ treating keys as positions is deprecated. In a future version, integer keys will always be treated as labels (consistent with DataFrame behavior). To access a value by position, use `ser.iloc[pos]`\n",
      "  text[i] = [pair for pair in text[i] if pair[0] not in LIGHT_VERBS and pair[1] not in LIGHT_VERBS]\n",
      "/var/folders/ql/480bqgd56wz4x3b25hcy0bhr0000gn/T/ipykernel_67038/543707655.py:5: FutureWarning: Series.__setitem__ treating keys as positions is deprecated. In a future version, integer keys will always be treated as labels (consistent with DataFrame behavior). To set a value by position, use `ser.iloc[pos] = value`\n",
      "  text[i] = [pair for pair in text[i] if pair[0] not in LIGHT_VERBS and pair[1] not in LIGHT_VERBS]\n",
      "/var/folders/ql/480bqgd56wz4x3b25hcy0bhr0000gn/T/ipykernel_67038/543707655.py:5: FutureWarning: Series.__getitem__ treating keys as positions is deprecated. In a future version, integer keys will always be treated as labels (consistent with DataFrame behavior). To access a value by position, use `ser.iloc[pos]`\n",
      "  text[i] = [pair for pair in text[i] if pair[0] not in LIGHT_VERBS and pair[1] not in LIGHT_VERBS]\n",
      "/var/folders/ql/480bqgd56wz4x3b25hcy0bhr0000gn/T/ipykernel_67038/543707655.py:5: FutureWarning: Series.__setitem__ treating keys as positions is deprecated. In a future version, integer keys will always be treated as labels (consistent with DataFrame behavior). To set a value by position, use `ser.iloc[pos] = value`\n",
      "  text[i] = [pair for pair in text[i] if pair[0] not in LIGHT_VERBS and pair[1] not in LIGHT_VERBS]\n",
      "/var/folders/ql/480bqgd56wz4x3b25hcy0bhr0000gn/T/ipykernel_67038/543707655.py:5: FutureWarning: Series.__getitem__ treating keys as positions is deprecated. In a future version, integer keys will always be treated as labels (consistent with DataFrame behavior). To access a value by position, use `ser.iloc[pos]`\n",
      "  text[i] = [pair for pair in text[i] if pair[0] not in LIGHT_VERBS and pair[1] not in LIGHT_VERBS]\n",
      "/var/folders/ql/480bqgd56wz4x3b25hcy0bhr0000gn/T/ipykernel_67038/543707655.py:5: FutureWarning: Series.__setitem__ treating keys as positions is deprecated. In a future version, integer keys will always be treated as labels (consistent with DataFrame behavior). To set a value by position, use `ser.iloc[pos] = value`\n",
      "  text[i] = [pair for pair in text[i] if pair[0] not in LIGHT_VERBS and pair[1] not in LIGHT_VERBS]\n",
      "/var/folders/ql/480bqgd56wz4x3b25hcy0bhr0000gn/T/ipykernel_67038/543707655.py:5: FutureWarning: Series.__getitem__ treating keys as positions is deprecated. In a future version, integer keys will always be treated as labels (consistent with DataFrame behavior). To access a value by position, use `ser.iloc[pos]`\n",
      "  text[i] = [pair for pair in text[i] if pair[0] not in LIGHT_VERBS and pair[1] not in LIGHT_VERBS]\n",
      "/var/folders/ql/480bqgd56wz4x3b25hcy0bhr0000gn/T/ipykernel_67038/543707655.py:5: FutureWarning: Series.__setitem__ treating keys as positions is deprecated. In a future version, integer keys will always be treated as labels (consistent with DataFrame behavior). To set a value by position, use `ser.iloc[pos] = value`\n",
      "  text[i] = [pair for pair in text[i] if pair[0] not in LIGHT_VERBS and pair[1] not in LIGHT_VERBS]\n",
      "/var/folders/ql/480bqgd56wz4x3b25hcy0bhr0000gn/T/ipykernel_67038/543707655.py:5: FutureWarning: Series.__getitem__ treating keys as positions is deprecated. In a future version, integer keys will always be treated as labels (consistent with DataFrame behavior). To access a value by position, use `ser.iloc[pos]`\n",
      "  text[i] = [pair for pair in text[i] if pair[0] not in LIGHT_VERBS and pair[1] not in LIGHT_VERBS]\n",
      "/var/folders/ql/480bqgd56wz4x3b25hcy0bhr0000gn/T/ipykernel_67038/543707655.py:5: FutureWarning: Series.__setitem__ treating keys as positions is deprecated. In a future version, integer keys will always be treated as labels (consistent with DataFrame behavior). To set a value by position, use `ser.iloc[pos] = value`\n",
      "  text[i] = [pair for pair in text[i] if pair[0] not in LIGHT_VERBS and pair[1] not in LIGHT_VERBS]\n",
      "/var/folders/ql/480bqgd56wz4x3b25hcy0bhr0000gn/T/ipykernel_67038/543707655.py:5: FutureWarning: Series.__getitem__ treating keys as positions is deprecated. In a future version, integer keys will always be treated as labels (consistent with DataFrame behavior). To access a value by position, use `ser.iloc[pos]`\n",
      "  text[i] = [pair for pair in text[i] if pair[0] not in LIGHT_VERBS and pair[1] not in LIGHT_VERBS]\n",
      "/var/folders/ql/480bqgd56wz4x3b25hcy0bhr0000gn/T/ipykernel_67038/543707655.py:5: FutureWarning: Series.__setitem__ treating keys as positions is deprecated. In a future version, integer keys will always be treated as labels (consistent with DataFrame behavior). To set a value by position, use `ser.iloc[pos] = value`\n",
      "  text[i] = [pair for pair in text[i] if pair[0] not in LIGHT_VERBS and pair[1] not in LIGHT_VERBS]\n",
      "/var/folders/ql/480bqgd56wz4x3b25hcy0bhr0000gn/T/ipykernel_67038/543707655.py:5: FutureWarning: Series.__getitem__ treating keys as positions is deprecated. In a future version, integer keys will always be treated as labels (consistent with DataFrame behavior). To access a value by position, use `ser.iloc[pos]`\n",
      "  text[i] = [pair for pair in text[i] if pair[0] not in LIGHT_VERBS and pair[1] not in LIGHT_VERBS]\n",
      "/var/folders/ql/480bqgd56wz4x3b25hcy0bhr0000gn/T/ipykernel_67038/543707655.py:5: FutureWarning: Series.__setitem__ treating keys as positions is deprecated. In a future version, integer keys will always be treated as labels (consistent with DataFrame behavior). To set a value by position, use `ser.iloc[pos] = value`\n",
      "  text[i] = [pair for pair in text[i] if pair[0] not in LIGHT_VERBS and pair[1] not in LIGHT_VERBS]\n",
      "/var/folders/ql/480bqgd56wz4x3b25hcy0bhr0000gn/T/ipykernel_67038/543707655.py:5: FutureWarning: Series.__getitem__ treating keys as positions is deprecated. In a future version, integer keys will always be treated as labels (consistent with DataFrame behavior). To access a value by position, use `ser.iloc[pos]`\n",
      "  text[i] = [pair for pair in text[i] if pair[0] not in LIGHT_VERBS and pair[1] not in LIGHT_VERBS]\n",
      "/var/folders/ql/480bqgd56wz4x3b25hcy0bhr0000gn/T/ipykernel_67038/543707655.py:5: FutureWarning: Series.__setitem__ treating keys as positions is deprecated. In a future version, integer keys will always be treated as labels (consistent with DataFrame behavior). To set a value by position, use `ser.iloc[pos] = value`\n",
      "  text[i] = [pair for pair in text[i] if pair[0] not in LIGHT_VERBS and pair[1] not in LIGHT_VERBS]\n",
      "/var/folders/ql/480bqgd56wz4x3b25hcy0bhr0000gn/T/ipykernel_67038/543707655.py:5: FutureWarning: Series.__getitem__ treating keys as positions is deprecated. In a future version, integer keys will always be treated as labels (consistent with DataFrame behavior). To access a value by position, use `ser.iloc[pos]`\n",
      "  text[i] = [pair for pair in text[i] if pair[0] not in LIGHT_VERBS and pair[1] not in LIGHT_VERBS]\n",
      "/var/folders/ql/480bqgd56wz4x3b25hcy0bhr0000gn/T/ipykernel_67038/543707655.py:5: FutureWarning: Series.__setitem__ treating keys as positions is deprecated. In a future version, integer keys will always be treated as labels (consistent with DataFrame behavior). To set a value by position, use `ser.iloc[pos] = value`\n",
      "  text[i] = [pair for pair in text[i] if pair[0] not in LIGHT_VERBS and pair[1] not in LIGHT_VERBS]\n"
     ]
    }
   ],
   "source": [
    "del_light_verbs(locness_df['synonyms'])\n",
    "del_light_verbs(ptj_df['synonyms'])\n",
    "del_light_verbs(smk_df['synonyms'])"
   ]
  },
  {
   "cell_type": "code",
   "execution_count": 32,
   "id": "bbeb08e9",
   "metadata": {},
   "outputs": [],
   "source": [
    "locness_syn = locness_df['synonyms'].apply(len).sum()\n",
    "icnale_syn = smk_df['synonyms'].apply(len).sum() + ptj_df['synonyms'].apply(len).sum()"
   ]
  },
  {
   "cell_type": "code",
   "execution_count": 33,
   "id": "7838cca5",
   "metadata": {},
   "outputs": [
    {
     "name": "stdout",
     "output_type": "stream",
     "text": [
      "173 151\n"
     ]
    }
   ],
   "source": [
    "print(locness_syn, icnale_syn)"
   ]
  },
  {
   "cell_type": "code",
   "execution_count": 34,
   "id": "2e7dc71d",
   "metadata": {},
   "outputs": [
    {
     "name": "stdout",
     "output_type": "stream",
     "text": [
      "1546 overall cohesion features in L1 writing, \n",
      "1092 overall cohesion features in L2 writing\n"
     ]
    }
   ],
   "source": [
    "L1_cohesions += locness_syn\n",
    "L2_cohesions += icnale_syn\n",
    "print(f\"{L1_cohesions} overall cohesion features in L1 writing, \\n{L2_cohesions} overall cohesion features in L2 writing\")"
   ]
  },
  {
   "cell_type": "markdown",
   "id": "5956d920",
   "metadata": {},
   "source": [
    "### Final calculations ###"
   ]
  },
  {
   "cell_type": "code",
   "execution_count": 35,
   "id": "e12ff4dd",
   "metadata": {},
   "outputs": [],
   "source": [
    "locness_df['num_sent'] = locness_df['content'].apply(lambda x: len(sent_tokenize(x)))\n",
    "ptj_df['num_sent'] = ptj_df['text'].apply(lambda x: len(sent_tokenize(x)))\n",
    "smk_df['num_sent'] = smk_df['text'].apply(lambda x: len(sent_tokenize(x)))"
   ]
  },
  {
   "cell_type": "code",
   "execution_count": 37,
   "id": "471942cc",
   "metadata": {},
   "outputs": [
    {
     "name": "stdout",
     "output_type": "stream",
     "text": [
      "767 L1 sentences, \n",
      " 776 L2 sentences\n"
     ]
    }
   ],
   "source": [
    "L1_sentences = locness_df['num_sent'].sum()\n",
    "L2_sentences = ptj_df['num_sent'].sum() + smk_df['num_sent'].sum()\n",
    "print(f\"{L1_sentences} L1 sentences, \\n {L2_sentences} L2 sentences\")"
   ]
  },
  {
   "cell_type": "code",
   "execution_count": 38,
   "id": "d2ed6733",
   "metadata": {},
   "outputs": [],
   "source": [
    "from nltk import word_tokenize\n",
    "locness_df['num_words'] = locness_df['content'].apply(lambda x: len(word_tokenize(x)))\n",
    "ptj_df['num_words'] = ptj_df['text'].apply(lambda x: len(word_tokenize(x)))\n",
    "smk_df['num_words'] = smk_df['text'].apply(lambda x: len(word_tokenize(x)))"
   ]
  },
  {
   "cell_type": "code",
   "execution_count": 39,
   "id": "0a833682",
   "metadata": {},
   "outputs": [
    {
     "name": "stdout",
     "output_type": "stream",
     "text": [
      "18307 L1 words, \n",
      " 12791 L2 words\n"
     ]
    }
   ],
   "source": [
    "L1_words = locness_df['num_words'].sum()\n",
    "L2_words = ptj_df['num_words'].sum() + smk_df['num_words'].sum()\n",
    "print(f\"{L1_words} L1 words, \\n {L2_words} L2 words\")"
   ]
  },
  {
   "cell_type": "code",
   "execution_count": 40,
   "id": "cc6ca745",
   "metadata": {},
   "outputs": [
    {
     "name": "stdout",
     "output_type": "stream",
     "text": [
      "LOCNESS cohesion-word density: 0.08444857158463975 \n",
      " ICNALE cohesion-word density: 0.08537252755843953\n"
     ]
    }
   ],
   "source": [
    "L1_word_density = L1_cohesions/L1_words\n",
    "L2_word_density = L2_cohesions/L2_words\n",
    "print(f\"LOCNESS cohesion-word density: {L1_word_density} \\n ICNALE cohesion-word density: {L2_word_density}\")"
   ]
  },
  {
   "cell_type": "code",
   "execution_count": 41,
   "id": "81996492",
   "metadata": {},
   "outputs": [
    {
     "name": "stdout",
     "output_type": "stream",
     "text": [
      "LOCNESS cohesion-sentence density: 2.015645371577575 \n",
      " ICNALE cohesion-sentence density: 1.407216494845361\n"
     ]
    }
   ],
   "source": [
    "L1_sent_density = L1_cohesions/L1_sentences\n",
    "L2_sent_density = L2_cohesions/L2_sentences\n",
    "print(f\"LOCNESS cohesion-sentence density: {L1_sent_density} \\n ICNALE cohesion-sentence density: {L2_sent_density}\")"
   ]
  },
  {
   "cell_type": "code",
   "execution_count": 42,
   "id": "4457200e",
   "metadata": {},
   "outputs": [
    {
     "data": {
      "text/plain": [
       "0    [(smoking, smoke), (smoking, smoke), (smoking,...\n",
       "1    [(smoking, smoke), (country, area), (country, ...\n",
       "2                                                   []\n",
       "3                                      [(case, cause)]\n",
       "4    [(smoke, smoking), (smoke, smoking), (smoking,...\n",
       "Name: synonyms, dtype: object"
      ]
     },
     "execution_count": 42,
     "metadata": {},
     "output_type": "execute_result"
    }
   ],
   "source": [
    "smk_df['synonyms'].head()"
   ]
  },
  {
   "cell_type": "code",
   "execution_count": 32,
   "id": "667dc9a1",
   "metadata": {},
   "outputs": [
    {
     "name": "stdout",
     "output_type": "stream",
     "text": [
      "Requirement already satisfied: matplotlib in /Users/Catherine/.pyenv/versions/3.12.7/lib/python3.12/site-packages (3.10.3)\n",
      "Requirement already satisfied: contourpy>=1.0.1 in /Users/Catherine/.pyenv/versions/3.12.7/lib/python3.12/site-packages (from matplotlib) (1.3.2)\n",
      "Requirement already satisfied: cycler>=0.10 in /Users/Catherine/.pyenv/versions/3.12.7/lib/python3.12/site-packages (from matplotlib) (0.12.1)\n",
      "Requirement already satisfied: fonttools>=4.22.0 in /Users/Catherine/.pyenv/versions/3.12.7/lib/python3.12/site-packages (from matplotlib) (4.58.0)\n",
      "Requirement already satisfied: kiwisolver>=1.3.1 in /Users/Catherine/.pyenv/versions/3.12.7/lib/python3.12/site-packages (from matplotlib) (1.4.8)\n",
      "Requirement already satisfied: numpy>=1.23 in /Users/Catherine/.pyenv/versions/3.12.7/lib/python3.12/site-packages (from matplotlib) (2.1.3)\n",
      "Requirement already satisfied: packaging>=20.0 in /Users/Catherine/.pyenv/versions/3.12.7/lib/python3.12/site-packages (from matplotlib) (24.2)\n",
      "Requirement already satisfied: pillow>=8 in /Users/Catherine/.pyenv/versions/3.12.7/lib/python3.12/site-packages (from matplotlib) (11.0.0)\n",
      "Requirement already satisfied: pyparsing>=2.3.1 in /Users/Catherine/.pyenv/versions/3.12.7/lib/python3.12/site-packages (from matplotlib) (3.2.3)\n",
      "Requirement already satisfied: python-dateutil>=2.7 in /Users/Catherine/.pyenv/versions/3.12.7/lib/python3.12/site-packages (from matplotlib) (2.9.0.post0)\n",
      "Requirement already satisfied: six>=1.5 in /Users/Catherine/.pyenv/versions/3.12.7/lib/python3.12/site-packages (from python-dateutil>=2.7->matplotlib) (1.16.0)\n",
      "\n",
      "\u001b[1m[\u001b[0m\u001b[34;49mnotice\u001b[0m\u001b[1;39;49m]\u001b[0m\u001b[39;49m A new release of pip is available: \u001b[0m\u001b[31;49m24.2\u001b[0m\u001b[39;49m -> \u001b[0m\u001b[32;49m25.1.1\u001b[0m\n",
      "\u001b[1m[\u001b[0m\u001b[34;49mnotice\u001b[0m\u001b[1;39;49m]\u001b[0m\u001b[39;49m To update, run: \u001b[0m\u001b[32;49mpip install --upgrade pip\u001b[0m\n"
     ]
    }
   ],
   "source": [
    "!pip3 install matplotlib"
   ]
  },
  {
   "cell_type": "code",
   "execution_count": 45,
   "id": "4aed4c89",
   "metadata": {},
   "outputs": [
    {
     "data": {
      "image/png": "[encoded data removed]",
      "text/plain": [
       "<Figure size 640x480 with 1 Axes>"
      ]
     },
     "metadata": {},
     "output_type": "display_data"
    }
   ],
   "source": [
    "import numpy as np\n",
    "import matplotlib.pyplot as plt\n",
    "\n",
    "features = ['References', 'Conjunctions', 'Lexical Cohesion'] # categories\n",
    "vals1, vals2 = [locness_refs/L1_words, locness_conj/L1_words, locness_syn/L1_words], [icnale_refs/L2_words, icnale_conj/L2_words, icnale_syn/L2_words]\n",
    "\n",
    "# Bar width and x locations\n",
    "w, x = 0.4, np.arange(len(features))\n",
    "\n",
    "fig, ax = plt.subplots()\n",
    "ax.bar(x - w/2, vals1, width=w, label='L1')\n",
    "ax.bar(x + w/2, vals2, width=w, label='L2')\n",
    "\n",
    "ax.set_xticks(x)\n",
    "ax.set_xticklabels(features)\n",
    "ax.set_ylabel('Density')\n",
    "ax.set_title('Cohesion-Word Density for Cohesion Features')\n",
    "ax.legend()\n",
    "\n",
    "\n",
    "plt.show()\n"
   ]
  },
  {
   "cell_type": "code",
   "execution_count": 44,
   "id": "397333fc",
   "metadata": {},
   "outputs": [
    {
     "data": {
      "image/png": "[encoded data removed]",
      "text/plain": [
       "<Figure size 640x480 with 1 Axes>"
      ]
     },
     "metadata": {},
     "output_type": "display_data"
    }
   ],
   "source": [
    "import numpy as np\n",
    "import matplotlib.pyplot as plt\n",
    "\n",
    "features = ['References', 'Conjunctions', 'Lexical Cohesion'] # categories\n",
    "vals1, vals2 = [locness_refs/L1_sentences, locness_conj/L1_sentences, locness_syn/L1_sentences], [icnale_refs/L2_sentences, icnale_conj/L2_sentences, icnale_syn/L2_sentences]\n",
    "\n",
    "# Bar width and x locations\n",
    "w, x = 0.4, np.arange(len(features))\n",
    "\n",
    "fig, ax = plt.subplots()\n",
    "ax.bar(x - w/2, vals1, width=w, label='L1')\n",
    "ax.bar(x + w/2, vals2, width=w, label='L2')\n",
    "\n",
    "ax.set_xticks(x)\n",
    "ax.set_xticklabels(features)\n",
    "ax.set_ylabel('Density')\n",
    "ax.set_title('Cohesion-Sentence Density for Cohesion Features')\n",
    "ax.legend()\n",
    "\n",
    "\n",
    "plt.show()\n"
   ]
  },
  {
   "cell_type": "code",
   "execution_count": 46,
   "id": "014446b8",
   "metadata": {},
   "outputs": [
    {
     "data": {
      "image/png": "[encoded data removed]",
      "text/plain": [
       "<Figure size 640x480 with 1 Axes>"
      ]
     },
     "metadata": {},
     "output_type": "display_data"
    }
   ],
   "source": [
    "y = np.array([locness_refs, locness_conj, locness_syn])\n",
    "mylabels = [\"References\", \"Conjunctions\", \"Lexical Cohesion\"]\n",
    "\n",
    "plt.pie(y, labels = mylabels)\n",
    "plt.title(\"# of Appearances for Each Cohesion Feature in Native Speakers\")\n",
    "plt.show() "
   ]
  },
  {
   "cell_type": "code",
   "execution_count": 48,
   "id": "a11be2d6",
   "metadata": {},
   "outputs": [
    {
     "data": {
      "image/png": "[encoded data removed]",
      "text/plain": [
       "<Figure size 640x480 with 1 Axes>"
      ]
     },
     "metadata": {},
     "output_type": "display_data"
    }
   ],
   "source": [
    "y = np.array([icnale_refs, icnale_conj, icnale_syn])\n",
    "mylabels = [\"References\", \"Conjunctions\", \"Lexical Cohesion\"]\n",
    "\n",
    "plt.pie(y, labels = mylabels)\n",
    "plt.title(\"# of Appearances for Each Cohesion Feature in Korean ESL Learners\")\n",
    "plt.show() "
   ]
  },
  {
   "cell_type": "code",
   "execution_count": null,
   "id": "56deecb2",
   "metadata": {},
   "outputs": [],
   "source": []
  }
 ],
 "metadata": {
  "kernelspec": {
   "display_name": "3.12.7",
   "language": "python",
   "name": "python3"
  },
  "language_info": {
   "codemirror_mode": {
    "name": "ipython",
    "version": 3
   },
   "file_extension": ".py",
   "mimetype": "text/x-python",
   "name": "python",
   "nbconvert_exporter": "python",
   "pygments_lexer": "ipython3",
   "version": "3.12.7"
  }
 },
 "nbformat": 4,
 "nbformat_minor": 5
}
